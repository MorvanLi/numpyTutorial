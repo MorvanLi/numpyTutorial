{
 "cells": [
  {
   "cell_type": "markdown",
   "id": "6572859c",
   "metadata": {},
   "source": [
    "## 基础题目1\n",
    "\n",
    "切分数据，要求如下：\n",
    "\n",
    "+ 针对每一 target，分别按 80%/20% 将数据切分为训练数据和测试数据\n",
    "+ 切分时要求每 5 个样本，取中间的 1 个为测试数据，其余为训练数据\n",
    "\n",
    "\n",
    "## 基础题目2\n",
    "预测结果，要求如下：\n",
    "\n",
    "+ 加载预先在训练数据上训练好的权重参数（存储参数的方法：np.savez(\"data/weight\", weight=weight)）\n",
    "+ 使用模型 sigmoid(W·X) 对测试数据进行预测\n",
    "+ 输出预测的准确率\n",
    "\n",
    "## 进阶题目\n",
    "如果您已经对机器学习有了一定基础，不妨试试这个练习，它会使用更多 numpy 的 API。\n",
    "\n",
    "使用 Numpy 实现简单神经网络，要求如下：\n",
    "\n",
    "+ 特征选择第 2 个和第 4 个（sepal width, petal width）\n",
    "+ 使用反向传播和梯度下降进行学习"
   ]
  },
  {
   "cell_type": "code",
   "execution_count": 19,
   "id": "9d28e030",
   "metadata": {},
   "outputs": [],
   "source": [
    "import numpy as np\n",
    "from sklearn.datasets import load_iris\n",
    "np.random.seed(12345)"
   ]
  },
  {
   "cell_type": "code",
   "execution_count": 20,
   "id": "0f991a8f",
   "metadata": {},
   "outputs": [],
   "source": [
    "# 加载 iris 数据集\n",
    "iris = load_iris()\n",
    "# 提取 target ≤ 1 的 target，并将维度从 (length, ) 拓展为 (length, 1)\n",
    "y = np.expand_dims(np.extract(iris[\"target\"] <= 1, iris[\"target\"]), 1)\n",
    "# 根据 y 的 size 拿到对应的 x\n",
    "x = iris[\"data\"][:y.shape[0]]"
   ]
  },
  {
   "cell_type": "code",
   "execution_count": 21,
   "id": "44dd10d3",
   "metadata": {},
   "outputs": [
    {
     "data": {
      "text/plain": [
       "((100, 1), (100, 4))"
      ]
     },
     "execution_count": 21,
     "metadata": {},
     "output_type": "execute_result"
    }
   ],
   "source": [
    "y.shape, x.shape"
   ]
  },
  {
   "cell_type": "code",
   "execution_count": 33,
   "id": "ef8ed06b",
   "metadata": {},
   "outputs": [
    {
     "data": {
      "text/plain": [
       "(20, 80)"
      ]
     },
     "execution_count": 33,
     "metadata": {},
     "output_type": "execute_result"
    }
   ],
   "source": [
    "# 有多少条数据\n",
    "data_size = x.shape[0]\n",
    "# 20% 作为测试数据\n",
    "test_size = int(data_size * 0.2)\n",
    "# 找到测试数据的 index\n",
    "test_idx = [i*5 for i in range(test_size)]\n",
    "# 过滤掉测试数据的 index，剩下的就是训练数据的 index\n",
    "train_idx = [i for i in range(data_size) if i not in test_idx]\n",
    "len(test_idx), len(train_idx)"
   ]
  },
  {
   "cell_type": "code",
   "execution_count": 34,
   "id": "c506d155",
   "metadata": {},
   "outputs": [],
   "source": [
    "# 使用训练数据的 index 得到训练数据\n",
    "x_train = x[train_idx]\n",
    "y_train = y[train_idx]\n",
    "# 直接使用索引切片得到测试数据，当然也可以使用测试数据 index\n",
    "x_test = x[0: data_size : 5]\n",
    "y_test = y[0: data_size : 5]"
   ]
  },
  {
   "cell_type": "markdown",
   "id": "17d83b05",
   "metadata": {},
   "source": [
    "- 基础题目2"
   ]
  },
  {
   "cell_type": "code",
   "execution_count": 39,
   "id": "76b33a6e",
   "metadata": {},
   "outputs": [],
   "source": [
    "# Sigmoid\n",
    "def sigmoid(x: np.array, derive: bool = False) -> np.array:\n",
    "    if derive:\n",
    "        return x * (1 - x)\n",
    "    return 1 / (1 + np.exp(-x))\n",
    "\n",
    "#预测函数\n",
    "def predict(x, w):\n",
    "    return sigmoid(x.dot(w))"
   ]
  },
  {
   "cell_type": "code",
   "execution_count": 44,
   "id": "602d2944",
   "metadata": {},
   "outputs": [
    {
     "data": {
      "text/plain": [
       "(4, 1)"
      ]
     },
     "execution_count": 44,
     "metadata": {},
     "output_type": "execute_result"
    }
   ],
   "source": [
    "# 加载权重，注意 key=\"weight\"\n",
    "w = np.load(\"./data/weight.npz\")[\"weight\"]\n",
    "w.shape"
   ]
  },
  {
   "cell_type": "code",
   "execution_count": 42,
   "id": "abd264f7",
   "metadata": {},
   "outputs": [],
   "source": [
    "# 拿到 sigmoid 的结果，即 probability\n",
    "prob = predict(x_test, w)\n"
   ]
  },
  {
   "cell_type": "code",
   "execution_count": 45,
   "id": "0f0bd513",
   "metadata": {},
   "outputs": [
    {
     "data": {
      "text/plain": [
       "array([1.])"
      ]
     },
     "execution_count": 45,
     "metadata": {},
     "output_type": "execute_result"
    }
   ],
   "source": [
    "# >（或 ≥）0.5 作为 1 或 0 的标准\n",
    "sum((prob > 0.5) == y_test) / len(y_test)"
   ]
  },
  {
   "cell_type": "markdown",
   "id": "fd1129dd",
   "metadata": {},
   "source": [
    "- 进阶题目"
   ]
  },
  {
   "cell_type": "code",
   "execution_count": 53,
   "id": "f7e3131e",
   "metadata": {},
   "outputs": [
    {
     "data": {
      "text/plain": [
       "(20, 2)"
      ]
     },
     "execution_count": 53,
     "metadata": {},
     "output_type": "execute_result"
    }
   ],
   "source": [
    "# 只取第2和第4个特征\n",
    "x_train_part = x_train[:, [1, 3]]\n",
    "x_test_part = x_test[:, [1, 3]]"
   ]
  },
  {
   "cell_type": "code",
   "execution_count": 47,
   "id": "562b5386",
   "metadata": {},
   "outputs": [],
   "source": [
    "def test(x, y, wh, wo, use_hidden: bool = False):\n",
    "    \"\"\"\n",
    "    预测函数，如果使用隐层的话，需要增加对应的计算\n",
    "    \"\"\"\n",
    "    if use_hidden:\n",
    "        ypred = sigmoid(sigmoid(x.dot(wh)).dot(wo))\n",
    "    else:\n",
    "        ypred = sigmoid(x.dot(wo))\n",
    "    print(\"Acc: %.2f\" % (sum((ypred >= 0.5 ) == y) / len(y))[0])"
   ]
  },
  {
   "cell_type": "code",
   "execution_count": 71,
   "id": "2505f9a8",
   "metadata": {},
   "outputs": [],
   "source": [
    "def train(x, y, use_hidden: bool = False, lr: float = 0.01):\n",
    "    \"\"\"\n",
    "    训练函数，可以支持单隐层或无隐层\n",
    "    \"\"\"\n",
    "    hidden_size = 8 if use_hidden else x.shape[1]\n",
    "    # 初始化，可以有多种初始化方式，我们这里使用 uniform\n",
    "    wh = np.random.uniform(-np.sqrt(1/hidden_size), np.sqrt(1/hidden_size), (x.shape[1], hidden_size))\n",
    "    wo = np.random.uniform(-1, 1, (hidden_size, 1))\n",
    "    # 1000 个 Epoch\n",
    "    for epoch in range(1, 1001):\n",
    "        # 使用隐层\n",
    "        if use_hidden:\n",
    "            hidden = np.dot(x, wh)\n",
    "            hidden = sigmoid(hidden)\n",
    "        else:\n",
    "            hidden = x\n",
    "        logits = np.dot(hidden, wo)\n",
    "        pred = sigmoid(logits)\n",
    "        # 输出层的 error\n",
    "        pred_err = y - pred\n",
    "        # 反向传播，输出层的更新权重\n",
    "        pred_delta = pred_err * sigmoid(pred, True)\n",
    "        if use_hidden:\n",
    "            # 隐层的 error 和更新权重\n",
    "            hidd_err = pred_delta.dot(wo.T)\n",
    "            hidd_delta = hidd_err * sigmoid(hidden, True)\n",
    "        \n",
    "        # 更新参数\n",
    "        wo += lr * hidden.T.dot(pred_delta)\n",
    "        if use_hidden:\n",
    "            wh += lr * x.T.dot(hidd_delta)\n",
    "\n",
    "        # 计算损失\n",
    "        loss = np.mean(np.abs(pred_err))\n",
    "        if epoch % 200 == 0:\n",
    "            # 如果有验证集，可以在这里对验证集进行验证，结果有提升（如 loss下降或 acc 提高）时进行存储\n",
    "            # 还可以根据结果提升情况设计自动提前终止的方案（比如连续 3 次不再提升）\n",
    "            print(\"Error:\" + str(loss))\n",
    "    \n",
    "    # 得到训练集的 Acc\n",
    "    test(x, y, wh, wo, use_hidden)\n",
    "    # 返回权重（参数）\n",
    "    return wh, wo"
   ]
  },
  {
   "cell_type": "code",
   "execution_count": 72,
   "id": "63241120",
   "metadata": {},
   "outputs": [
    {
     "name": "stdout",
     "output_type": "stream",
     "text": [
      "Error:0.12356083588449022\n",
      "Error:0.08331958773616781\n",
      "Error:0.06628462513391868\n",
      "Error:0.05637309253951559\n",
      "Error:0.049715585633962125\n",
      "Acc: 1.00\n"
     ]
    },
    {
     "data": {
      "text/plain": [
       "((2, 2), (2, 1))"
      ]
     },
     "execution_count": 72,
     "metadata": {},
     "output_type": "execute_result"
    }
   ],
   "source": [
    "wh, wo = train(x_train_part, y_train)\n",
    "wh.shape, wo.shape"
   ]
  },
  {
   "cell_type": "code",
   "execution_count": 73,
   "id": "e4e68625",
   "metadata": {},
   "outputs": [
    {
     "name": "stdout",
     "output_type": "stream",
     "text": [
      "Acc: 1.00\n"
     ]
    }
   ],
   "source": [
    "test(x_test_part, y_test, wh, wo)"
   ]
  },
  {
   "cell_type": "code",
   "execution_count": null,
   "id": "a30d5ff8",
   "metadata": {},
   "outputs": [],
   "source": []
  }
 ],
 "metadata": {
  "kernelspec": {
   "display_name": "Python 3",
   "language": "python",
   "name": "python3"
  },
  "language_info": {
   "codemirror_mode": {
    "name": "ipython",
    "version": 3
   },
   "file_extension": ".py",
   "mimetype": "text/x-python",
   "name": "python",
   "nbconvert_exporter": "python",
   "pygments_lexer": "ipython3",
   "version": "3.6.9"
  },
  "toc": {
   "base_numbering": 1,
   "nav_menu": {},
   "number_sections": true,
   "sideBar": true,
   "skip_h1_title": false,
   "title_cell": "Table of Contents",
   "title_sidebar": "Contents",
   "toc_cell": false,
   "toc_position": {},
   "toc_section_display": true,
   "toc_window_display": false
  }
 },
 "nbformat": 4,
 "nbformat_minor": 5
}
