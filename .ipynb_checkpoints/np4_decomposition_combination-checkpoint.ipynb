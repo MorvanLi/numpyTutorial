{
 "cells": [
  {
   "cell_type": "markdown",
   "id": "5e61791b",
   "metadata": {},
   "source": [
    "这节我们主要学习 array 的分解和组合，本节是所有章节中最重要的一节，通过本节内容，您可以充分了解 numpy（以及 Python 语言）的强大，这种操作上的优雅不能说后无来者，但至少前无古人了。\n",
    "\n",
    "内容大致包括以下小节：\n",
    "\n",
    "+ 切片和索引\n",
    "+ 拼接\n",
    "+ 重复\n",
    "+ 分拆\n",
    "\n",
    "其中，重中之重是「切片和索引」，它基础、它高频、它无处不在。我们强烈建议您熟练掌握，其他三个相对简单，只需要各记住一个 API 即可。"
   ]
  },
  {
   "cell_type": "markdown",
   "id": "406559e8",
   "metadata": {},
   "source": [
    "# 切片和索引 ⭐⭐⭐⭐⭐\n",
    "\n",
    "划重点！切片和索引是通过对已有 array 进行操作而得到想要的「部分」元素的行为过程。其核心动作可以概括为：按维度根据 start:stop:step 操作 array。\n",
    "\n",
    "这部分内容的核心是把处理按维度分开，不处理的维度统一用 : 或 ... 代替；在看操作时，也要首先关注「,」在哪里。要处理的维度和之前 arange linspace 等接口使用方法是一样的。\n",
    "\n",
    "⚠️ 需要注意的是：引支持负数，即从后往前索引。"
   ]
  },
  {
   "cell_type": "code",
   "execution_count": 2,
   "id": "d478b649",
   "metadata": {},
   "outputs": [
    {
     "data": {
      "text/plain": [
       "array([[13,  4, 15,  6],\n",
       "       [ 4, 15, 12, 13],\n",
       "       [19,  7, 16,  6],\n",
       "       [11, 11,  4,  3],\n",
       "       [ 4, 13, 12, 18]])"
      ]
     },
     "execution_count": 2,
     "metadata": {},
     "output_type": "execute_result"
    }
   ],
   "source": [
    "import numpy as np\n",
    "rng = np.random.default_rng(12345)\n",
    "arr = rng.integers(0, 20, (5, 4))\n",
    "arr"
   ]
  },
  {
   "cell_type": "markdown",
   "id": "94703e8d",
   "metadata": {},
   "source": [
    "***\n",
    "index/slice\n",
    "***"
   ]
  },
  {
   "cell_type": "code",
   "execution_count": 3,
   "id": "65d5761c",
   "metadata": {},
   "outputs": [
    {
     "data": {
      "text/plain": [
       "array([13,  4, 15,  6])"
      ]
     },
     "execution_count": 3,
     "metadata": {},
     "output_type": "execute_result"
    }
   ],
   "source": [
    "# 取第 0 行\n",
    "arr[0]"
   ]
  },
  {
   "cell_type": "code",
   "execution_count": 5,
   "id": "59891927",
   "metadata": {},
   "outputs": [
    {
     "data": {
      "text/plain": [
       "4"
      ]
     },
     "execution_count": 5,
     "metadata": {},
     "output_type": "execute_result"
    }
   ],
   "source": [
    "# 取第 0 行第 1 个元素\n",
    "arr[0, 1]"
   ]
  },
  {
   "cell_type": "code",
   "execution_count": 6,
   "id": "71bbd756",
   "metadata": {},
   "outputs": [
    {
     "data": {
      "text/plain": [
       "array([[13,  4, 15,  6],\n",
       "       [ 4, 15, 12, 13],\n",
       "       [19,  7, 16,  6]])"
      ]
     },
     "execution_count": 6,
     "metadata": {},
     "output_type": "execute_result"
    }
   ],
   "source": [
    "# 然后带点范围 第 1-2 行\n",
    "arr[0:3]"
   ]
  },
  {
   "cell_type": "code",
   "execution_count": 7,
   "id": "f2ff7e9d",
   "metadata": {},
   "outputs": [
    {
     "data": {
      "text/plain": [
       "array([[13,  4, 15,  6],\n",
       "       [11, 11,  4,  3]])"
      ]
     },
     "execution_count": 7,
     "metadata": {},
     "output_type": "execute_result"
    }
   ],
   "source": [
    "# 离散也可以：第 1，3 行\n",
    "arr[[0, 3]]"
   ]
  },
  {
   "cell_type": "code",
   "execution_count": 8,
   "id": "04a0db6e",
   "metadata": {},
   "outputs": [
    {
     "data": {
      "text/plain": [
       "array([[13,  4, 15,  6],\n",
       "       [ 4, 15, 12, 13],\n",
       "       [19,  7, 16,  6],\n",
       "       [11, 11,  4,  3],\n",
       "       [ 4, 13, 12, 18]])"
      ]
     },
     "execution_count": 8,
     "metadata": {},
     "output_type": "execute_result"
    }
   ],
   "source": [
    "arr"
   ]
  },
  {
   "cell_type": "code",
   "execution_count": 9,
   "id": "a509ef28",
   "metadata": {},
   "outputs": [
    {
     "data": {
      "text/plain": [
       "array([15,  7])"
      ]
     },
     "execution_count": 9,
     "metadata": {},
     "output_type": "execute_result"
    }
   ],
   "source": [
    "# 再来加上维度：第 1-2 行，第 1 列\n",
    "arr[1:3, 1]"
   ]
  },
  {
   "cell_type": "code",
   "execution_count": 10,
   "id": "28ca74be",
   "metadata": {},
   "outputs": [
    {
     "data": {
      "text/plain": [
       "array([ 4, 11])"
      ]
     },
     "execution_count": 10,
     "metadata": {},
     "output_type": "execute_result"
    }
   ],
   "source": [
    "# 离散也是一样：第 1，3 行，第 0 列\n",
    "arr[[1,3], [0]]"
   ]
  },
  {
   "cell_type": "code",
   "execution_count": 11,
   "id": "11995d8b",
   "metadata": {},
   "outputs": [
    {
     "data": {
      "text/plain": [
       "array([[11, 11,  4,  3],\n",
       "       [ 4, 13, 12, 18]])"
      ]
     },
     "execution_count": 11,
     "metadata": {},
     "output_type": "execute_result"
    }
   ],
   "source": [
    "# 还可以有简写：到最后或到开始。如第 3 行到最后一行\n",
    "arr[3:]"
   ]
  },
  {
   "cell_type": "code",
   "execution_count": 12,
   "id": "ac15f605",
   "metadata": {},
   "outputs": [
    {
     "data": {
      "text/plain": [
       "array([[ 4, 15],\n",
       "       [15, 12],\n",
       "       [ 7, 16]])"
      ]
     },
     "execution_count": 12,
     "metadata": {},
     "output_type": "execute_result"
    }
   ],
   "source": [
    "# 开始到第 3 行，第 1-3 列\n",
    "arr[:3, 1:3]"
   ]
  },
  {
   "cell_type": "code",
   "execution_count": 13,
   "id": "958cf030",
   "metadata": {},
   "outputs": [
    {
     "data": {
      "text/plain": [
       "array([[ 4, 15, 12, 13],\n",
       "       [11, 11,  4,  3]])"
      ]
     },
     "execution_count": 13,
     "metadata": {},
     "output_type": "execute_result"
    }
   ],
   "source": [
    "# 还可以来点跳跃，步长：start:stop:step，第 1 行到第 4 行，间隔为 2，即第 1、3 行\n",
    "arr[1: 4: 2]"
   ]
  },
  {
   "cell_type": "code",
   "execution_count": 14,
   "id": "4c68496e",
   "metadata": {},
   "outputs": [
    {
     "data": {
      "text/plain": [
       "array([[ 4, 12],\n",
       "       [11,  4]])"
      ]
     },
     "execution_count": 14,
     "metadata": {},
     "output_type": "execute_result"
    }
   ],
   "source": [
    "# 加上列也可以哦，第 1、3 行，第 0、2 列\n",
    "arr[1:4:2, 0:3:2]"
   ]
  },
  {
   "cell_type": "code",
   "execution_count": 15,
   "id": "65028028",
   "metadata": {},
   "outputs": [
    {
     "data": {
      "text/plain": [
       "array([[13,  4, 15,  6],\n",
       "       [ 4, 15, 12, 13],\n",
       "       [19,  7, 16,  6],\n",
       "       [11, 11,  4,  3],\n",
       "       [ 4, 13, 12, 18]])"
      ]
     },
     "execution_count": 15,
     "metadata": {},
     "output_type": "execute_result"
    }
   ],
   "source": [
    "arr"
   ]
  },
  {
   "cell_type": "code",
   "execution_count": 16,
   "id": "f4379bd0",
   "metadata": {},
   "outputs": [
    {
     "data": {
      "text/plain": [
       "array([ 4, 15,  7, 11, 13])"
      ]
     },
     "execution_count": 16,
     "metadata": {},
     "output_type": "execute_result"
    }
   ],
   "source": [
    "# 第一列的值，其实是所有其他维度第 1 维的值\n",
    "arr[...,1]"
   ]
  },
  {
   "cell_type": "code",
   "execution_count": 17,
   "id": "46c8238b",
   "metadata": {},
   "outputs": [
    {
     "data": {
      "text/plain": [
       "array([ 4, 15,  7, 11, 13])"
      ]
     },
     "execution_count": 17,
     "metadata": {},
     "output_type": "execute_result"
    }
   ],
   "source": [
    "# 与上面类似，但用的更多\n",
    "arr[:,1]"
   ]
  },
  {
   "cell_type": "markdown",
   "id": "7b4a98d7",
   "metadata": {},
   "source": [
    "# 拼接 ⭐⭐⭐⭐\n",
    "\n",
    "有时候我们需要对已有的几个 array 进行拼接以形成一个大的 array（常见的例子比如不同类型特征的拼接）。本小节严格来说只有两个 API：np.concatenate 和 np.stack，前者是拼接，后者是堆叠（会增加一个维度），都可以指定维度。记住，有它俩就够了。\n",
    "\n",
    "⚠️ 需要注意的是：hstack 和 vstack 和 stack 没关系，反而是 concatenate。"
   ]
  },
  {
   "cell_type": "code",
   "execution_count": 20,
   "id": "9af8bf1a",
   "metadata": {},
   "outputs": [
    {
     "data": {
      "text/plain": [
       "(array([[-1.42382504,  1.26372846, -0.87066174],\n",
       "        [-0.25917323, -0.07534331, -0.74088465]]),\n",
       " array([[-1.3677927 ,  0.6488928 ,  0.36105811],\n",
       "        [-1.95286306,  2.34740965,  0.96849691]]))"
      ]
     },
     "execution_count": 20,
     "metadata": {},
     "output_type": "execute_result"
    }
   ],
   "source": [
    "rng = np.random.default_rng(12345)\n",
    "\n",
    "arr1 = rng.standard_normal((2, 3))\n",
    "arr2 = rng.standard_normal((2, 3))\n",
    "arr1, arr2"
   ]
  },
  {
   "cell_type": "markdown",
   "id": "a7c86b74",
   "metadata": {},
   "source": [
    "***\n",
    "np.concatenate\n",
    "***"
   ]
  },
  {
   "cell_type": "code",
   "execution_count": 21,
   "id": "b72d5c7e",
   "metadata": {},
   "outputs": [
    {
     "data": {
      "text/plain": [
       "array([[-1.42382504,  1.26372846, -0.87066174],\n",
       "       [-0.25917323, -0.07534331, -0.74088465],\n",
       "       [-1.3677927 ,  0.6488928 ,  0.36105811],\n",
       "       [-1.95286306,  2.34740965,  0.96849691]])"
      ]
     },
     "execution_count": 21,
     "metadata": {},
     "output_type": "execute_result"
    }
   ],
   "source": [
    "# 默认沿axis=0（列）连接\n",
    "np.concatenate((arr1, arr2))"
   ]
  },
  {
   "cell_type": "code",
   "execution_count": 22,
   "id": "fff7fad0",
   "metadata": {},
   "outputs": [
    {
     "data": {
      "text/plain": [
       "array([[-1.42382504,  1.26372846, -0.87066174, -1.3677927 ,  0.6488928 ,\n",
       "         0.36105811],\n",
       "       [-0.25917323, -0.07534331, -0.74088465, -1.95286306,  2.34740965,\n",
       "         0.96849691]])"
      ]
     },
     "execution_count": 22,
     "metadata": {},
     "output_type": "execute_result"
    }
   ],
   "source": [
    "# 沿 axis=1（行）连接\n",
    "np.concatenate((arr1, arr2), axis=1)"
   ]
  },
  {
   "cell_type": "markdown",
   "id": "4cd7d1fe",
   "metadata": {},
   "source": [
    "***"
   ]
  },
  {
   "cell_type": "code",
   "execution_count": 24,
   "id": "c6ecf450",
   "metadata": {},
   "outputs": [
    {
     "data": {
      "text/plain": [
       "array([[-1.42382504,  1.26372846, -0.87066174],\n",
       "       [-0.25917323, -0.07534331, -0.74088465],\n",
       "       [-1.3677927 ,  0.6488928 ,  0.36105811],\n",
       "       [-1.95286306,  2.34740965,  0.96849691]])"
      ]
     },
     "execution_count": 24,
     "metadata": {},
     "output_type": "execute_result"
    }
   ],
   "source": [
    "# 竖直按行顺序拼接\n",
    "# 注意：vstack 虽然看起来是 stack，但其实它是 concatenate，建议您只使用 `np.concatenate`\n",
    "np.vstack((arr1, arr2))"
   ]
  },
  {
   "cell_type": "code",
   "execution_count": 25,
   "id": "7dadd9e8",
   "metadata": {},
   "outputs": [
    {
     "data": {
      "text/plain": [
       "array([[-1.42382504,  1.26372846, -0.87066174, -1.3677927 ,  0.6488928 ,\n",
       "         0.36105811],\n",
       "       [-0.25917323, -0.07534331, -0.74088465, -1.95286306,  2.34740965,\n",
       "         0.96849691]])"
      ]
     },
     "execution_count": 25,
     "metadata": {},
     "output_type": "execute_result"
    }
   ],
   "source": [
    "# 水平按列顺序拼接\n",
    "# 道理和 vstack 一样，建议使用 `np.concatenate` axis=1\n",
    "np.hstack((arr1, arr2))"
   ]
  },
  {
   "cell_type": "markdown",
   "id": "54f5eb92",
   "metadata": {},
   "source": [
    "***\n",
    "np.stack\n",
    "***"
   ]
  },
  {
   "cell_type": "code",
   "execution_count": 26,
   "id": "4586cce9",
   "metadata": {},
   "outputs": [
    {
     "data": {
      "text/plain": [
       "array([[[-1.42382504,  1.26372846, -0.87066174],\n",
       "        [-0.25917323, -0.07534331, -0.74088465]],\n",
       "\n",
       "       [[-1.3677927 ,  0.6488928 ,  0.36105811],\n",
       "        [-1.95286306,  2.34740965,  0.96849691]]])"
      ]
     },
     "execution_count": 26,
     "metadata": {},
     "output_type": "execute_result"
    }
   ],
   "source": [
    "# 堆叠，默认根据 axis=0 进行\n",
    "np.stack((arr1, arr2))"
   ]
  },
  {
   "cell_type": "code",
   "execution_count": 27,
   "id": "d7ab123c",
   "metadata": {},
   "outputs": [
    {
     "data": {
      "text/plain": [
       "(2, 2, 3)"
      ]
     },
     "execution_count": 27,
     "metadata": {},
     "output_type": "execute_result"
    }
   ],
   "source": [
    "_.shape"
   ]
  },
  {
   "cell_type": "code",
   "execution_count": 28,
   "id": "c87ae087",
   "metadata": {},
   "outputs": [
    {
     "data": {
      "text/plain": [
       "array([[[-1.42382504, -1.3677927 ],\n",
       "        [ 1.26372846,  0.6488928 ],\n",
       "        [-0.87066174,  0.36105811]],\n",
       "\n",
       "       [[-0.25917323, -1.95286306],\n",
       "        [-0.07534331,  2.34740965],\n",
       "        [-0.74088465,  0.96849691]]])"
      ]
     },
     "execution_count": 28,
     "metadata": {},
     "output_type": "execute_result"
    }
   ],
   "source": [
    "# 堆叠，根据 axis=2\n",
    "np.stack((arr1, arr2), axis=2)"
   ]
  },
  {
   "cell_type": "code",
   "execution_count": 29,
   "id": "d599a7a7",
   "metadata": {},
   "outputs": [
    {
     "data": {
      "text/plain": [
       "(2, 3, 2)"
      ]
     },
     "execution_count": 29,
     "metadata": {},
     "output_type": "execute_result"
    }
   ],
   "source": [
    "# _ 表示上一个 Cell 的输出结果\n",
    "_.shape"
   ]
  },
  {
   "cell_type": "markdown",
   "id": "d5dc3b2a",
   "metadata": {},
   "source": [
    "***"
   ]
  },
  {
   "cell_type": "code",
   "execution_count": 30,
   "id": "47c6c3c2",
   "metadata": {},
   "outputs": [
    {
     "data": {
      "text/plain": [
       "array([[[-1.42382504, -1.3677927 ],\n",
       "        [ 1.26372846,  0.6488928 ],\n",
       "        [-0.87066174,  0.36105811]],\n",
       "\n",
       "       [[-0.25917323, -1.95286306],\n",
       "        [-0.07534331,  2.34740965],\n",
       "        [-0.74088465,  0.96849691]]])"
      ]
     },
     "execution_count": 30,
     "metadata": {},
     "output_type": "execute_result"
    }
   ],
   "source": [
    "# 纵深按 axis=2 堆叠，不管它就行，我们认准 `stack`\n",
    "np.dstack((arr1, arr2))"
   ]
  },
  {
   "cell_type": "code",
   "execution_count": 31,
   "id": "d465f707",
   "metadata": {},
   "outputs": [
    {
     "data": {
      "text/plain": [
       "(2, 3, 2)"
      ]
     },
     "execution_count": 31,
     "metadata": {},
     "output_type": "execute_result"
    }
   ],
   "source": [
    "_.shape"
   ]
  },
  {
   "cell_type": "markdown",
   "id": "d54da501",
   "metadata": {},
   "source": [
    "# 重复 ⭐⭐⭐\n",
    "\n",
    "重复其实是另一种拼接方式，它也可以指定要重复的维度。在有些深度学习模型数据构建中非常有用（方便）。\n",
    "\n",
    "⚠️ 需要注意的是：是一个维度一个维度依次重复，而不是整个 array 重复。"
   ]
  },
  {
   "cell_type": "code",
   "execution_count": 32,
   "id": "54893f6d",
   "metadata": {},
   "outputs": [
    {
     "data": {
      "text/plain": [
       "array([[6, 2, 7, 3],\n",
       "       [2, 7, 6, 6],\n",
       "       [9, 3, 8, 3]])"
      ]
     },
     "execution_count": 32,
     "metadata": {},
     "output_type": "execute_result"
    }
   ],
   "source": [
    "rng = np.random.default_rng(12345)\n",
    "arr = rng.integers(0, 10, (3, 4))\n",
    "arr"
   ]
  },
  {
   "cell_type": "code",
   "execution_count": 33,
   "id": "5c122e69",
   "metadata": {},
   "outputs": [
    {
     "data": {
      "text/plain": [
       "array([[6, 2, 7, 3],\n",
       "       [6, 2, 7, 3],\n",
       "       [2, 7, 6, 6],\n",
       "       [2, 7, 6, 6],\n",
       "       [9, 3, 8, 3],\n",
       "       [9, 3, 8, 3]])"
      ]
     },
     "execution_count": 33,
     "metadata": {},
     "output_type": "execute_result"
    }
   ],
   "source": [
    "# 在 axis=0（沿着列）上重复 2 次\n",
    "np.repeat(arr, 2, axis=0)"
   ]
  },
  {
   "cell_type": "code",
   "execution_count": 34,
   "id": "04a39030",
   "metadata": {},
   "outputs": [
    {
     "data": {
      "text/plain": [
       "array([[6, 6, 6, 2, 2, 2, 7, 7, 7, 3, 3, 3],\n",
       "       [2, 2, 2, 7, 7, 7, 6, 6, 6, 6, 6, 6],\n",
       "       [9, 9, 9, 3, 3, 3, 8, 8, 8, 3, 3, 3]])"
      ]
     },
     "execution_count": 34,
     "metadata": {},
     "output_type": "execute_result"
    }
   ],
   "source": [
    "# 在 axis=1（沿着行）上重复 3 次\n",
    "np.repeat(arr, 3, axis=1)"
   ]
  },
  {
   "cell_type": "markdown",
   "id": "d08a6ad6",
   "metadata": {},
   "source": [
    "# 分拆 ⭐⭐⭐\n",
    "\n",
    "有拼接堆叠自然就有拆分，注意这不是切片和索引，就是将 array 拆成想要的几份。用的不是特别多，API 只要记住 np.split 就行了，其他的都是快捷方式。\n",
    "\n",
    "⚠️ 需要注意的是：分拆的 axis 是对该维度进行拆分。"
   ]
  },
  {
   "cell_type": "code",
   "execution_count": 35,
   "id": "fd0cbf57",
   "metadata": {},
   "outputs": [
    {
     "data": {
      "text/plain": [
       "array([[70, 23, 79, 32],\n",
       "       [21, 79, 64, 67],\n",
       "       [98, 39, 84, 33],\n",
       "       [57, 60, 22, 19],\n",
       "       [23, 67, 61, 94],\n",
       "       [70, 25, 91, 94]])"
      ]
     },
     "execution_count": 35,
     "metadata": {},
     "output_type": "execute_result"
    }
   ],
   "source": [
    "rng = np.random.default_rng(12345)\n",
    "arr = rng.integers(1, 100, (6, 4))\n",
    "arr"
   ]
  },
  {
   "cell_type": "markdown",
   "id": "b5a1b69f",
   "metadata": {},
   "source": [
    "***\n",
    "np.split\n",
    "***"
   ]
  },
  {
   "cell_type": "code",
   "execution_count": 38,
   "id": "71220ed0",
   "metadata": {},
   "outputs": [
    {
     "data": {
      "text/plain": [
       "[array([[70, 23, 79, 32],\n",
       "        [21, 79, 64, 67]]), array([[98, 39, 84, 33],\n",
       "        [57, 60, 22, 19]]), array([[23, 67, 61, 94],\n",
       "        [70, 25, 91, 94]])]"
      ]
     },
     "execution_count": 38,
     "metadata": {},
     "output_type": "execute_result"
    }
   ],
   "source": [
    "# 默认切分列（axis=0），切成 3 份\n",
    "np.split(arr, 3)"
   ]
  },
  {
   "cell_type": "code",
   "execution_count": 39,
   "id": "0136443a",
   "metadata": {},
   "outputs": [
    {
     "data": {
      "text/plain": [
       "[array([[70, 23],\n",
       "        [21, 79],\n",
       "        [98, 39],\n",
       "        [57, 60],\n",
       "        [23, 67],\n",
       "        [70, 25]]), array([[79, 32],\n",
       "        [64, 67],\n",
       "        [84, 33],\n",
       "        [22, 19],\n",
       "        [61, 94],\n",
       "        [91, 94]])]"
      ]
     },
     "execution_count": 39,
     "metadata": {},
     "output_type": "execute_result"
    }
   ],
   "source": [
    "# （axis=1）切分行\n",
    "np.split(arr, 2, axis=1)"
   ]
  },
  {
   "cell_type": "code",
   "execution_count": 40,
   "id": "af6d9efb",
   "metadata": {},
   "outputs": [
    {
     "data": {
      "text/plain": [
       "[array([[70, 23, 79, 32],\n",
       "        [21, 79, 64, 67]]), array([[98, 39, 84, 33],\n",
       "        [57, 60, 22, 19]]), array([[23, 67, 61, 94],\n",
       "        [70, 25, 91, 94]])]"
      ]
     },
     "execution_count": 40,
     "metadata": {},
     "output_type": "execute_result"
    }
   ],
   "source": [
    "# 和上面的一个效果\n",
    "np.vsplit(arr, 3)"
   ]
  },
  {
   "cell_type": "code",
   "execution_count": 41,
   "id": "d157c9bb",
   "metadata": {},
   "outputs": [
    {
     "data": {
      "text/plain": [
       "[array([[70, 23],\n",
       "        [21, 79],\n",
       "        [98, 39],\n",
       "        [57, 60],\n",
       "        [23, 67],\n",
       "        [70, 25]]), array([[79, 32],\n",
       "        [64, 67],\n",
       "        [84, 33],\n",
       "        [22, 19],\n",
       "        [61, 94],\n",
       "        [91, 94]])]"
      ]
     },
     "execution_count": 41,
     "metadata": {},
     "output_type": "execute_result"
    }
   ],
   "source": [
    "# 等价的用法\n",
    "np.hsplit(arr, 2)"
   ]
  },
  {
   "cell_type": "code",
   "execution_count": null,
   "id": "30f1c02e",
   "metadata": {},
   "outputs": [],
   "source": []
  }
 ],
 "metadata": {
  "kernelspec": {
   "display_name": "Python 3",
   "language": "python",
   "name": "python3"
  },
  "language_info": {
   "codemirror_mode": {
    "name": "ipython",
    "version": 3
   },
   "file_extension": ".py",
   "mimetype": "text/x-python",
   "name": "python",
   "nbconvert_exporter": "python",
   "pygments_lexer": "ipython3",
   "version": "3.6.9"
  },
  "toc": {
   "base_numbering": 1,
   "nav_menu": {},
   "number_sections": true,
   "sideBar": true,
   "skip_h1_title": false,
   "title_cell": "Table of Contents",
   "title_sidebar": "Contents",
   "toc_cell": false,
   "toc_position": {},
   "toc_section_display": true,
   "toc_window_display": true
  }
 },
 "nbformat": 4,
 "nbformat_minor": 5
}
