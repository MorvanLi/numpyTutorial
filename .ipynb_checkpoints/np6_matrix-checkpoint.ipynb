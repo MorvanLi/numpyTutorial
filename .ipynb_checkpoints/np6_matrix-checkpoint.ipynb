{
 "cells": [
  {
   "cell_type": "markdown",
   "id": "ae510c68",
   "metadata": {},
   "source": [
    "这一节我们将聚焦矩阵和相关的运算，主要包括：\n",
    "\n",
    "+ 算术（四则运算及其他基础算术）\n",
    "+ 广播\n",
    "+ 矩阵相关\n",
    "\n",
    "这些内容其实使用非常普遍，普遍到我们甚至都不会察觉到自己在使用，而且也非常简单。当然，高纬度的计算我们这里并不涉及，但逻辑是一致的，只是更加复杂。"
   ]
  },
  {
   "cell_type": "markdown",
   "id": "18674974",
   "metadata": {},
   "source": [
    "# 算术 ⭐⭐⭐⭐\n",
    "\n",
    "所有的算术函数均可直接运用于 array。\n",
    "\n",
    "⚠️ 需要注意的是：mod 运算可以指定多个被除数。"
   ]
  },
  {
   "cell_type": "code",
   "execution_count": 1,
   "id": "b050a35d",
   "metadata": {},
   "outputs": [
    {
     "data": {
      "text/plain": [
       "array([[14,  5, 15,  7],\n",
       "       [ 4, 16, 13, 13],\n",
       "       [19,  8, 16,  7]])"
      ]
     },
     "execution_count": 1,
     "metadata": {},
     "output_type": "execute_result"
    }
   ],
   "source": [
    "import numpy as np\n",
    "rng = np.random.default_rng(12345)\n",
    "arr = rng.integers(1, 20, (3, 4))\n",
    "arr"
   ]
  },
  {
   "cell_type": "code",
   "execution_count": 2,
   "id": "34290b0e",
   "metadata": {},
   "outputs": [
    {
     "data": {
      "text/plain": [
       "array([[28, 10, 30, 14],\n",
       "       [ 8, 32, 26, 26],\n",
       "       [38, 16, 32, 14]])"
      ]
     },
     "execution_count": 2,
     "metadata": {},
     "output_type": "execute_result"
    }
   ],
   "source": [
    "# +-*/ 四则运算，就跟两个数字计算一样\n",
    "arr * 2"
   ]
  },
  {
   "cell_type": "code",
   "execution_count": 3,
   "id": "86fd2fd3",
   "metadata": {},
   "outputs": [
    {
     "data": {
      "text/plain": [
       "array([[196,  25, 225,  49],\n",
       "       [ 16, 256, 169, 169],\n",
       "       [361,  64, 256,  49]])"
      ]
     },
     "execution_count": 3,
     "metadata": {},
     "output_type": "execute_result"
    }
   ],
   "source": [
    "# 平方也可以\n",
    "arr ** 2"
   ]
  },
  {
   "cell_type": "code",
   "execution_count": 4,
   "id": "9ce91453",
   "metadata": {},
   "outputs": [
    {
     "data": {
      "text/plain": [
       "array([[3.74165739, 2.23606798, 3.87298335, 2.64575131],\n",
       "       [2.        , 4.        , 3.60555128, 3.60555128],\n",
       "       [4.35889894, 2.82842712, 4.        , 2.64575131]])"
      ]
     },
     "execution_count": 4,
     "metadata": {},
     "output_type": "execute_result"
    }
   ],
   "source": [
    "# 开方\n",
    "np.sqrt(arr)"
   ]
  },
  {
   "cell_type": "code",
   "execution_count": 5,
   "id": "6ad68ce3",
   "metadata": {},
   "outputs": [
    {
     "data": {
      "text/plain": [
       "array([[2.63905733, 1.60943791, 2.7080502 , 1.94591015],\n",
       "       [1.38629436, 2.77258872, 2.56494936, 2.56494936],\n",
       "       [2.94443898, 2.07944154, 2.77258872, 1.94591015]])"
      ]
     },
     "execution_count": 5,
     "metadata": {},
     "output_type": "execute_result"
    }
   ],
   "source": [
    "# log\n",
    "np.log(arr)"
   ]
  },
  {
   "cell_type": "code",
   "execution_count": 6,
   "id": "07fde061",
   "metadata": {},
   "outputs": [
    {
     "data": {
      "text/plain": [
       "array([[5, 5, 5, 5],\n",
       "       [4, 5, 5, 5],\n",
       "       [5, 5, 5, 5]])"
      ]
     },
     "execution_count": 6,
     "metadata": {},
     "output_type": "execute_result"
    }
   ],
   "source": [
    "# 超过5的都换成5\n",
    "np.minimum(arr, 5)"
   ]
  },
  {
   "cell_type": "code",
   "execution_count": 7,
   "id": "67d19c04",
   "metadata": {},
   "outputs": [
    {
     "data": {
      "text/plain": [
       "array([[14,  5, 15,  7],\n",
       "       [ 5, 16, 13, 13],\n",
       "       [19,  8, 16,  7]])"
      ]
     },
     "execution_count": 7,
     "metadata": {},
     "output_type": "execute_result"
    }
   ],
   "source": [
    "# 低于5的都换成5\n",
    "np.maximum(arr, 5)"
   ]
  },
  {
   "cell_type": "code",
   "execution_count": 11,
   "id": "7db1a474",
   "metadata": {},
   "outputs": [
    {
     "data": {
      "text/plain": [
       "array([[3.74, 2.24, 3.87, 2.65],\n",
       "       [2.  , 4.  , 3.61, 3.61],\n",
       "       [4.36, 2.83, 4.  , 2.65]])"
      ]
     },
     "execution_count": 11,
     "metadata": {},
     "output_type": "execute_result"
    }
   ],
   "source": [
    "# 四舍五入\n",
    "np.round(np.sqrt(arr), 2)"
   ]
  },
  {
   "cell_type": "code",
   "execution_count": 12,
   "id": "704388f1",
   "metadata": {},
   "outputs": [
    {
     "data": {
      "text/plain": [
       "array([[3., 2., 3., 2.],\n",
       "       [2., 4., 3., 3.],\n",
       "       [4., 2., 4., 2.]])"
      ]
     },
     "execution_count": 12,
     "metadata": {},
     "output_type": "execute_result"
    }
   ],
   "source": [
    "# floor/ceil\n",
    "np.floor(np.sqrt(arr))"
   ]
  },
  {
   "cell_type": "code",
   "execution_count": 13,
   "id": "2b305b6a",
   "metadata": {},
   "outputs": [
    {
     "data": {
      "text/plain": [
       "array([[4., 3., 4., 3.],\n",
       "       [2., 4., 4., 4.],\n",
       "       [5., 3., 4., 3.]])"
      ]
     },
     "execution_count": 13,
     "metadata": {},
     "output_type": "execute_result"
    }
   ],
   "source": [
    "np.ceil(np.sqrt(arr))"
   ]
  },
  {
   "cell_type": "code",
   "execution_count": 14,
   "id": "14b18b6c",
   "metadata": {},
   "outputs": [
    {
     "data": {
      "text/plain": [
       "array([[14,  5, 15,  7],\n",
       "       [ 4, 16, 13, 13],\n",
       "       [19,  8, 16,  7]])"
      ]
     },
     "execution_count": 14,
     "metadata": {},
     "output_type": "execute_result"
    }
   ],
   "source": [
    "arr"
   ]
  },
  {
   "cell_type": "code",
   "execution_count": 15,
   "id": "ef7c53c9",
   "metadata": {},
   "outputs": [
    {
     "data": {
      "text/plain": [
       "array([[2, 2, 0, 1],\n",
       "       [1, 1, 1, 1],\n",
       "       [1, 2, 1, 1]])"
      ]
     },
     "execution_count": 15,
     "metadata": {},
     "output_type": "execute_result"
    }
   ],
   "source": [
    "# mod <=> x % 3\n",
    "np.mod(arr, 3)"
   ]
  },
  {
   "cell_type": "code",
   "execution_count": 16,
   "id": "80b26dc0",
   "metadata": {},
   "outputs": [
    {
     "data": {
      "text/plain": [
       "array([[ 9,  0, 10,  2],\n",
       "       [-1, 11,  8,  8],\n",
       "       [14,  3, 11,  2]])"
      ]
     },
     "execution_count": 16,
     "metadata": {},
     "output_type": "execute_result"
    }
   ],
   "source": [
    "arr-5"
   ]
  },
  {
   "cell_type": "code",
   "execution_count": 17,
   "id": "4211dea1",
   "metadata": {},
   "outputs": [
    {
     "name": "stderr",
     "output_type": "stream",
     "text": [
      "/home/synsense-1/.local/lib/python3.6/site-packages/ipykernel_launcher.py:2: RuntimeWarning: divide by zero encountered in remainder\n",
      "  \n"
     ]
    },
    {
     "data": {
      "text/plain": [
       "array([[5, 0, 5, 1],\n",
       "       [0, 5, 5, 5],\n",
       "       [5, 2, 5, 1]])"
      ]
     },
     "execution_count": 17,
     "metadata": {},
     "output_type": "execute_result"
    }
   ],
   "source": [
    "# 还可以使用多个被除数\n",
    "np.mod(arr, arr-5)"
   ]
  },
  {
   "cell_type": "markdown",
   "id": "da5f8256",
   "metadata": {},
   "source": [
    "| 关于广播[详细参考](https://github.com/MorvanLi/Python/blob/main/numpy/numpyBroadcast.pdf)\n",
    "\n",
    "numpy 处理不同形状的 array 时使用的手段，极大地方便了使用者。在计算过程中，较小的数组会在较大的数组上进行「广播」，以便适配对方的形状。\n",
    "\n",
    "⚠️ 需要注意的是：广播需要满足对应的形状。"
   ]
  },
  {
   "cell_type": "code",
   "execution_count": 18,
   "id": "efa1174b",
   "metadata": {},
   "outputs": [
    {
     "data": {
      "text/plain": [
       "array([[70, 23, 79, 32],\n",
       "       [21, 79, 64, 67],\n",
       "       [98, 39, 84, 33]])"
      ]
     },
     "execution_count": 18,
     "metadata": {},
     "output_type": "execute_result"
    }
   ],
   "source": [
    "rng = np.random.default_rng(12345)\n",
    "a = rng.integers(1, 100, (3, 4))\n",
    "a"
   ]
  },
  {
   "cell_type": "code",
   "execution_count": 19,
   "id": "b8e66e97",
   "metadata": {},
   "outputs": [
    {
     "data": {
      "text/plain": [
       "array([[71, 25, 82, 36],\n",
       "       [22, 81, 67, 71],\n",
       "       [99, 41, 87, 37]])"
      ]
     },
     "execution_count": 19,
     "metadata": {},
     "output_type": "execute_result"
    }
   ],
   "source": [
    "# 广播，后面的被当做 1 行 4 列\n",
    "a + [1,2,3,4]"
   ]
  },
  {
   "cell_type": "code",
   "execution_count": 20,
   "id": "f5557e0c",
   "metadata": {},
   "outputs": [
    {
     "data": {
      "text/plain": [
       "array([[ 71,  24,  80,  33],\n",
       "       [ 23,  81,  66,  69],\n",
       "       [101,  42,  87,  36]])"
      ]
     },
     "execution_count": 20,
     "metadata": {},
     "output_type": "execute_result"
    }
   ],
   "source": [
    "# 或者这样广播，后面的被当做 3 行 1 列\n",
    "a + [[1], [2], [3]]"
   ]
  },
  {
   "cell_type": "code",
   "execution_count": 21,
   "id": "8e6fc68c",
   "metadata": {},
   "outputs": [
    {
     "data": {
      "text/plain": [
       "array([[0, 1, 1, 0],\n",
       "       [0, 1, 1, 3],\n",
       "       [0, 1, 0, 1]])"
      ]
     },
     "execution_count": 21,
     "metadata": {},
     "output_type": "execute_result"
    }
   ],
   "source": [
    "# 之前的取余也是可以的\n",
    "np.mod(a, [1,2,3,4])"
   ]
  },
  {
   "cell_type": "markdown",
   "id": "9bb428ef",
   "metadata": {},
   "source": [
    "# 矩阵 ⭐⭐⭐⭐⭐\n",
    "\n",
    "这一小节主要介绍线性代数中矩阵的处理，我们会介绍几个矩阵相关常用的 API。\n",
    "\n",
    "⚠️ 需要注意的是：dot 和 matmul 在高维度时表现不同。"
   ]
  },
  {
   "cell_type": "code",
   "execution_count": 22,
   "id": "db78b9e7",
   "metadata": {},
   "outputs": [
    {
     "data": {
      "text/plain": [
       "(array([[1, 7],\n",
       "        [6, 4],\n",
       "        [4, 8]]), array([[1, 7, 2, 1],\n",
       "        [5, 9, 7, 7]]), array([[7, 8, 5],\n",
       "        [2, 8, 5],\n",
       "        [5, 4, 2]]))"
      ]
     },
     "execution_count": 22,
     "metadata": {},
     "output_type": "execute_result"
    }
   ],
   "source": [
    "rng = np.random.default_rng(42)\n",
    "a = rng.integers(1, 10, (3, 2))\n",
    "b = rng.integers(1, 10, (2, 4))\n",
    "c = rng.integers(1, 10, (3, 3))\n",
    "a, b, c"
   ]
  },
  {
   "cell_type": "code",
   "execution_count": 23,
   "id": "66b19af8",
   "metadata": {},
   "outputs": [
    {
     "data": {
      "text/plain": [
       "array([[ 36,  70,  51,  50],\n",
       "       [ 26,  78,  40,  34],\n",
       "       [ 44, 100,  64,  60]])"
      ]
     },
     "execution_count": 23,
     "metadata": {},
     "output_type": "execute_result"
    }
   ],
   "source": [
    "# array 乘法\n",
    "np.dot(a, b)"
   ]
  },
  {
   "cell_type": "code",
   "execution_count": 24,
   "id": "c473b338",
   "metadata": {},
   "outputs": [
    {
     "data": {
      "text/plain": [
       "array([[ 36,  70,  51,  50],\n",
       "       [ 26,  78,  40,  34],\n",
       "       [ 44, 100,  64,  60]])"
      ]
     },
     "execution_count": 24,
     "metadata": {},
     "output_type": "execute_result"
    }
   ],
   "source": [
    "# 或者这样乘\n",
    "a.dot(b)"
   ]
  },
  {
   "cell_type": "code",
   "execution_count": 25,
   "id": "e075f853",
   "metadata": {},
   "outputs": [
    {
     "data": {
      "text/plain": [
       "(5, 2, 4, 6)"
      ]
     },
     "execution_count": 25,
     "metadata": {},
     "output_type": "execute_result"
    }
   ],
   "source": [
    "# 我们看下高维度下 dot 和 matmul 的区别\n",
    "# ijk, lkm -> ijlm 矩阵a的最后一列和矩阵b的倒数第二轮列\n",
    "np.dot(np.ones((5, 2, 3)), np.ones((4, 3, 6))).shape"
   ]
  },
  {
   "cell_type": "code",
   "execution_count": 26,
   "id": "067d4bcf",
   "metadata": {},
   "outputs": [
    {
     "data": {
      "text/plain": [
       "array([[ 36,  70,  51,  50],\n",
       "       [ 26,  78,  40,  34],\n",
       "       [ 44, 100,  64,  60]])"
      ]
     },
     "execution_count": 26,
     "metadata": {},
     "output_type": "execute_result"
    }
   ],
   "source": [
    "# 矩阵乘法\n",
    "# 与 dot 的主要区别是：如果维度 > 2，dot 只考虑最后的维度，而 matmul 则考虑所有维度\n",
    "np.matmul(a, b)"
   ]
  },
  {
   "cell_type": "code",
   "execution_count": 27,
   "id": "94394f18",
   "metadata": {},
   "outputs": [
    {
     "data": {
      "text/plain": [
       "array([[ 36,  70,  51,  50],\n",
       "       [ 26,  78,  40,  34],\n",
       "       [ 44, 100,  64,  60]])"
      ]
     },
     "execution_count": 27,
     "metadata": {},
     "output_type": "execute_result"
    }
   ],
   "source": [
    "# 同上，写起来比较好看的方法\n",
    "a @ b"
   ]
  },
  {
   "cell_type": "code",
   "execution_count": 29,
   "id": "eb3bc70e",
   "metadata": {},
   "outputs": [
    {
     "data": {
      "text/plain": [
       "(5, 2, 6)"
      ]
     },
     "execution_count": 29,
     "metadata": {},
     "output_type": "execute_result"
    }
   ],
   "source": [
    "# ijk, ikl -> ijl \n",
    "np.matmul(np.ones((5, 2, 3)), np.ones((5, 3, 6))).shape"
   ]
  },
  {
   "cell_type": "code",
   "execution_count": 30,
   "id": "1c18ad18",
   "metadata": {},
   "outputs": [
    {
     "data": {
      "text/plain": [
       "182"
      ]
     },
     "execution_count": 30,
     "metadata": {},
     "output_type": "execute_result"
    }
   ],
   "source": [
    "# 点积\n",
    "np.vdot(a, a)"
   ]
  },
  {
   "cell_type": "code",
   "execution_count": 31,
   "id": "20cef373",
   "metadata": {},
   "outputs": [
    {
     "data": {
      "text/plain": [
       "182"
      ]
     },
     "execution_count": 31,
     "metadata": {},
     "output_type": "execute_result"
    }
   ],
   "source": [
    "# 对，就是点积\n",
    "np.sum(a*a)"
   ]
  },
  {
   "cell_type": "code",
   "execution_count": 32,
   "id": "848aab71",
   "metadata": {},
   "outputs": [
    {
     "data": {
      "text/plain": [
       "array([[50, 34, 60],\n",
       "       [34, 52, 56],\n",
       "       [60, 56, 80]])"
      ]
     },
     "execution_count": 32,
     "metadata": {},
     "output_type": "execute_result"
    }
   ],
   "source": [
    "# 内积\n",
    "np.inner(a, a)"
   ]
  },
  {
   "cell_type": "code",
   "execution_count": 33,
   "id": "fa8c0374",
   "metadata": {},
   "outputs": [
    {
     "data": {
      "text/plain": [
       "array([[50, 34, 60],\n",
       "       [34, 52, 56],\n",
       "       [60, 56, 80]])"
      ]
     },
     "execution_count": 33,
     "metadata": {},
     "output_type": "execute_result"
    }
   ],
   "source": [
    "# 对，就是内积\n",
    "a.dot(a.T)"
   ]
  },
  {
   "cell_type": "code",
   "execution_count": 34,
   "id": "8c962de7",
   "metadata": {},
   "outputs": [
    {
     "data": {
      "text/plain": [
       "-20.000000000000014"
      ]
     },
     "execution_count": 34,
     "metadata": {},
     "output_type": "execute_result"
    }
   ],
   "source": [
    "# 行列式\n",
    "np.linalg.det(c)"
   ]
  },
  {
   "cell_type": "code",
   "execution_count": 35,
   "id": "486dce50",
   "metadata": {},
   "outputs": [
    {
     "data": {
      "text/plain": [
       "array([[ 0.2 , -0.2 ,  0.  ],\n",
       "       [-1.05,  0.55,  1.25],\n",
       "       [ 1.6 , -0.6 , -2.  ]])"
      ]
     },
     "execution_count": 35,
     "metadata": {},
     "output_type": "execute_result"
    }
   ],
   "source": [
    "# 逆矩阵（方阵）\n",
    "np.linalg.inv(c)"
   ]
  },
  {
   "cell_type": "code",
   "execution_count": null,
   "id": "12075751",
   "metadata": {},
   "outputs": [],
   "source": []
  }
 ],
 "metadata": {
  "kernelspec": {
   "display_name": "Python 3",
   "language": "python",
   "name": "python3"
  },
  "language_info": {
   "codemirror_mode": {
    "name": "ipython",
    "version": 3
   },
   "file_extension": ".py",
   "mimetype": "text/x-python",
   "name": "python",
   "nbconvert_exporter": "python",
   "pygments_lexer": "ipython3",
   "version": "3.6.9"
  },
  "toc": {
   "base_numbering": 1,
   "nav_menu": {},
   "number_sections": true,
   "sideBar": true,
   "skip_h1_title": false,
   "title_cell": "Table of Contents",
   "title_sidebar": "Contents",
   "toc_cell": false,
   "toc_position": {},
   "toc_section_display": true,
   "toc_window_display": true
  }
 },
 "nbformat": 4,
 "nbformat_minor": 5
}
