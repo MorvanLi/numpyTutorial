{
 "cells": [
  {
   "cell_type": "markdown",
   "id": "ed670746",
   "metadata": {},
   "source": [
    "本节我们从 array 的基本统计属性入手，对刚刚创建的 array 进一步的了解。主要包括以下几个方面：\n",
    "\n",
    "+ 尺寸相关\n",
    "+ 最大、最小、中位、分位值\n",
    "+ 平均、求和、标准差等\n",
    "都是描述性统计相关的指标，对于我们从整体了解一个 array 很有帮助。其中，用到最多的是尺寸相关的「shape」，最大、最小值，平均值、求和等。\n",
    "\n",
    "本节的内容非常简单，您只需要特别关注（记住）两个重要的特性：\n",
    "\n",
    "+ 按维度（指定 axis）求结果。一般0表示列1表示行，可以用「沿着行/列操作」这样理解，不确定时可以拿个例子试一下。\n",
    "+ 计算后保持维度（keepdims=True）\n",
    "另外，为了便于操作，我们使用一个随机生成的 array 作为操作对象；同时，我们指定了 seed，这样每次运行，每个人看到的结果都是一样的。一般我们在训练模型时，往往需要指定 seed，这样才能在「同等条件」下进行调参。"
   ]
  },
  {
   "cell_type": "code",
   "execution_count": 1,
   "id": "df738944",
   "metadata": {},
   "outputs": [
    {
     "data": {
      "text/plain": [
       "array([[0.22733602, 0.31675834, 0.79736546, 0.67625467],\n",
       "       [0.39110955, 0.33281393, 0.59830875, 0.18673419],\n",
       "       [0.67275604, 0.94180287, 0.24824571, 0.94888115]])"
      ]
     },
     "execution_count": 1,
     "metadata": {},
     "output_type": "execute_result"
    }
   ],
   "source": [
    "import numpy as np\n",
    "#  先创建一个 Generator\n",
    "rng = np.random.default_rng(seed=12345)\n",
    "#  再生成一个均匀分布\n",
    "arr = rng.uniform(0, 1, (3, 4))\n",
    "arr"
   ]
  },
  {
   "cell_type": "markdown",
   "id": "6d01581c",
   "metadata": {},
   "source": [
    "# 尺寸相关⭐⭐ \n",
    "\n",
    "\n",
    "\n",
    "这一小节主要包括：维度、形状和数据量，其中形状 shape 我们用到的最多。\n",
    "\n",
    "⚠️ 需要注意的是：size 不是 shape，ndim 表示有几个维度。"
   ]
  },
  {
   "cell_type": "code",
   "execution_count": 2,
   "id": "50b16278",
   "metadata": {},
   "outputs": [
    {
     "data": {
      "text/plain": [
       "2"
      ]
     },
     "execution_count": 2,
     "metadata": {},
     "output_type": "execute_result"
    }
   ],
   "source": [
    "# 维度，array 是二维的（两个维度）\n",
    "arr.ndim"
   ]
  },
  {
   "cell_type": "code",
   "execution_count": 3,
   "id": "ee5fb253",
   "metadata": {},
   "outputs": [
    {
     "data": {
      "text/plain": [
       "(3, 4)"
      ]
     },
     "execution_count": 3,
     "metadata": {},
     "output_type": "execute_result"
    }
   ],
   "source": [
    "# 形状，返回一个 Tuple\n",
    "arr.shape"
   ]
  },
  {
   "cell_type": "code",
   "execution_count": 4,
   "id": "c149edc0",
   "metadata": {},
   "outputs": [
    {
     "data": {
      "text/plain": [
       "12"
      ]
     },
     "execution_count": 4,
     "metadata": {},
     "output_type": "execute_result"
    }
   ],
   "source": [
    "# 数据量\n",
    "arr.size"
   ]
  },
  {
   "cell_type": "markdown",
   "id": "819a58f6",
   "metadata": {},
   "source": [
    "# 最值分位 ⭐⭐⭐\n",
    "\n",
    "这一小节主要包括：最大值、最小值、中位数、其他分位数，其中『最大值和最小值』我们平时用到的最多。\n",
    "\n",
    "⚠️ 需要注意的是：分位数可以是 0-1 的任意小数（表示对应分位），而且分位数并不一定在原始的 array 中。"
   ]
  },
  {
   "cell_type": "code",
   "execution_count": 5,
   "id": "e5e8cd35",
   "metadata": {},
   "outputs": [
    {
     "data": {
      "text/plain": [
       "array([[0.22733602, 0.31675834, 0.79736546, 0.67625467],\n",
       "       [0.39110955, 0.33281393, 0.59830875, 0.18673419],\n",
       "       [0.67275604, 0.94180287, 0.24824571, 0.94888115]])"
      ]
     },
     "execution_count": 5,
     "metadata": {},
     "output_type": "execute_result"
    }
   ],
   "source": [
    "arr"
   ]
  },
  {
   "cell_type": "code",
   "execution_count": 6,
   "id": "c5d19284",
   "metadata": {},
   "outputs": [
    {
     "data": {
      "text/plain": [
       "0.9488811518333182"
      ]
     },
     "execution_count": 6,
     "metadata": {},
     "output_type": "execute_result"
    }
   ],
   "source": [
    "# 所有元素中最大的\n",
    "arr.max()"
   ]
  },
  {
   "cell_type": "code",
   "execution_count": 7,
   "id": "e1b3a2f0",
   "metadata": {},
   "outputs": [
    {
     "data": {
      "text/plain": [
       "array([0.67275604, 0.94180287, 0.79736546, 0.94888115])"
      ]
     },
     "execution_count": 7,
     "metadata": {},
     "output_type": "execute_result"
    }
   ],
   "source": [
    "# 按维度（列）最大值\n",
    "arr.max(axis=0)"
   ]
  },
  {
   "cell_type": "code",
   "execution_count": 8,
   "id": "e5422982",
   "metadata": {},
   "outputs": [
    {
     "data": {
      "text/plain": [
       "array([0.79736546, 0.59830875, 0.94888115])"
      ]
     },
     "execution_count": 8,
     "metadata": {},
     "output_type": "execute_result"
    }
   ],
   "source": [
    "# 同理，按行\n",
    "arr.max(axis=1)"
   ]
  },
  {
   "cell_type": "code",
   "execution_count": 9,
   "id": "712cf225",
   "metadata": {},
   "outputs": [
    {
     "data": {
      "text/plain": [
       "array([[0.22733602],\n",
       "       [0.18673419],\n",
       "       [0.24824571]])"
      ]
     },
     "execution_count": 9,
     "metadata": {},
     "output_type": "execute_result"
    }
   ],
   "source": [
    "# 是否保持原来的维度\n",
    "# 这个需要特别注意下，很多深度学习模型中都需要保持原有的维度进行后续计算\n",
    "# shape 是 (3,1)，array 的 shape 是 (3,4)，按行，同时保持了行的维度\n",
    "arr.min(axis=1, keepdims=True)"
   ]
  },
  {
   "cell_type": "code",
   "execution_count": 10,
   "id": "ccab2851",
   "metadata": {},
   "outputs": [
    {
     "data": {
      "text/plain": [
       "array([[0.22733602, 0.31675834, 0.24824571, 0.18673419]])"
      ]
     },
     "execution_count": 10,
     "metadata": {},
     "output_type": "execute_result"
    }
   ],
   "source": [
    "# 保持维度：（1，4），原始array是（3，4）\n",
    "arr.min(axis=0, keepdims=True)"
   ]
  },
  {
   "cell_type": "code",
   "execution_count": 11,
   "id": "0408c627",
   "metadata": {},
   "outputs": [
    {
     "data": {
      "text/plain": [
       "array([0.22733602, 0.31675834, 0.24824571, 0.18673419])"
      ]
     },
     "execution_count": 11,
     "metadata": {},
     "output_type": "execute_result"
    }
   ],
   "source": [
    "# 一维了\n",
    "arr.min(axis=0, keepdims=False)"
   ]
  },
  {
   "cell_type": "markdown",
   "id": "2e864a3d",
   "metadata": {},
   "source": [
    "***"
   ]
  },
  {
   "cell_type": "code",
   "execution_count": 12,
   "id": "b7f20873",
   "metadata": {},
   "outputs": [
    {
     "data": {
      "text/plain": [
       "array([0.67275604, 0.94180287, 0.79736546, 0.94888115])"
      ]
     },
     "execution_count": 12,
     "metadata": {},
     "output_type": "execute_result"
    }
   ],
   "source": [
    "# 另一种用法，不过我们一般习惯使用上面的用法，其实两者一回事\n",
    "np.amax(arr, axis=0)"
   ]
  },
  {
   "cell_type": "code",
   "execution_count": 13,
   "id": "8ce2528c",
   "metadata": {},
   "outputs": [
    {
     "data": {
      "text/plain": [
       "array([0.22733602, 0.18673419, 0.24824571])"
      ]
     },
     "execution_count": 13,
     "metadata": {},
     "output_type": "execute_result"
    }
   ],
   "source": [
    "# 同 amax\n",
    "np.amin(arr, axis=1)"
   ]
  },
  {
   "cell_type": "code",
   "execution_count": 14,
   "id": "018a4c99",
   "metadata": {},
   "outputs": [
    {
     "data": {
      "text/plain": [
       "0.4947091520945494"
      ]
     },
     "execution_count": 14,
     "metadata": {},
     "output_type": "execute_result"
    }
   ],
   "source": [
    "# 中位数\n",
    "# 其他用法和 max，min 是一样的\n",
    "np.median(arr)"
   ]
  },
  {
   "cell_type": "code",
   "execution_count": 15,
   "id": "16b4d10a",
   "metadata": {},
   "outputs": [
    {
     "data": {
      "text/plain": [
       "array([0.30922279, 0.32478613, 0.42327723, 0.43149443])"
      ]
     },
     "execution_count": 15,
     "metadata": {},
     "output_type": "execute_result"
    }
   ],
   "source": [
    "# 分位数，按列取1/4数\n",
    "np.quantile(arr, q=0.25, axis=0)"
   ]
  },
  {
   "cell_type": "code",
   "execution_count": 16,
   "id": "39fad5f0",
   "metadata": {},
   "outputs": [
    {
     "data": {
      "text/plain": [
       "array([[0.70653237],\n",
       "       [0.44290935],\n",
       "       [0.94357244]])"
      ]
     },
     "execution_count": 16,
     "metadata": {},
     "output_type": "execute_result"
    }
   ],
   "source": [
    "# 分位数，按行取 3/4，同时保持维度\n",
    "np.quantile(arr, q=0.75, axis=1, keepdims=True)"
   ]
  },
  {
   "cell_type": "code",
   "execution_count": 17,
   "id": "b91acde0",
   "metadata": {},
   "outputs": [
    {
     "data": {
      "text/plain": [
       "array([0.49650651, 0.36196174, 0.80727945])"
      ]
     },
     "execution_count": 17,
     "metadata": {},
     "output_type": "execute_result"
    }
   ],
   "source": [
    "# 分位数，注意，分位数可以是 0-1 之间的任何数字（分位）\n",
    "# 如果是 1/2 分位，那正好是中位数\n",
    "np.quantile(arr, q=1/2, axis=1)"
   ]
  },
  {
   "cell_type": "markdown",
   "id": "ec6a41d3",
   "metadata": {},
   "source": [
    "# 平均求和标准差 ⭐⭐⭐\n",
    "\n",
    "这一小节主要包括：平均值、累计求和、方差、标准差等进一步的统计指标。其中使用最多的是「平均值」。"
   ]
  },
  {
   "cell_type": "code",
   "execution_count": 18,
   "id": "2978d79b",
   "metadata": {},
   "outputs": [
    {
     "data": {
      "text/plain": [
       "array([[0.22733602, 0.31675834, 0.79736546, 0.67625467],\n",
       "       [0.39110955, 0.33281393, 0.59830875, 0.18673419],\n",
       "       [0.67275604, 0.94180287, 0.24824571, 0.94888115]])"
      ]
     },
     "execution_count": 18,
     "metadata": {},
     "output_type": "execute_result"
    }
   ],
   "source": [
    "arr"
   ]
  },
  {
   "cell_type": "code",
   "execution_count": 19,
   "id": "26d344e2",
   "metadata": {},
   "outputs": [
    {
     "data": {
      "text/plain": [
       "0.5281972236389397"
      ]
     },
     "execution_count": 19,
     "metadata": {},
     "output_type": "execute_result"
    }
   ],
   "source": [
    "# 平均值\n",
    "np.average(arr)"
   ]
  },
  {
   "cell_type": "code",
   "execution_count": 21,
   "id": "670cc02e",
   "metadata": {},
   "outputs": [
    {
     "data": {
      "text/plain": [
       "array([0.43040054, 0.53045838, 0.54797331, 0.60395667])"
      ]
     },
     "execution_count": 21,
     "metadata": {},
     "output_type": "execute_result"
    }
   ],
   "source": [
    "# 按维度平均（列）\n",
    "np.average(arr, axis=0)"
   ]
  },
  {
   "cell_type": "markdown",
   "id": "7ca6094e",
   "metadata": {},
   "source": [
    "***"
   ]
  },
  {
   "cell_type": "code",
   "execution_count": 22,
   "id": "9ea05c03",
   "metadata": {},
   "outputs": [
    {
     "data": {
      "text/plain": [
       "array([0.43040054, 0.53045838, 0.54797331, 0.60395667])"
      ]
     },
     "execution_count": 22,
     "metadata": {},
     "output_type": "execute_result"
    }
   ],
   "source": [
    "# 另一个计算平均值的 API\n",
    "# 它与 average 的主要区别是，np.average 可以指定权重，即可以用于计算加权平均\n",
    "# 一般建议使用 average，忘掉 mean 吧！\n",
    "np.mean(arr, axis=0)"
   ]
  },
  {
   "cell_type": "code",
   "execution_count": 23,
   "id": "c6628eb4",
   "metadata": {},
   "outputs": [
    {
     "data": {
      "text/plain": [
       "array([2.01771449, 1.50896642, 2.81168578])"
      ]
     },
     "execution_count": 23,
     "metadata": {},
     "output_type": "execute_result"
    }
   ],
   "source": [
    "# 求和，不多说了，类似\n",
    "np.sum(arr, axis=1)"
   ]
  },
  {
   "cell_type": "code",
   "execution_count": 24,
   "id": "e30d5d85",
   "metadata": {},
   "outputs": [
    {
     "data": {
      "text/plain": [
       "array([[2.01771449],\n",
       "       [1.50896642],\n",
       "       [2.81168578]])"
      ]
     },
     "execution_count": 24,
     "metadata": {},
     "output_type": "execute_result"
    }
   ],
   "source": [
    "np.sum(arr, axis=1, keepdims=True)"
   ]
  },
  {
   "cell_type": "markdown",
   "id": "4ea3f982",
   "metadata": {},
   "source": [
    "***"
   ]
  },
  {
   "cell_type": "code",
   "execution_count": 25,
   "id": "93c5538e",
   "metadata": {},
   "outputs": [
    {
     "data": {
      "text/plain": [
       "array([[0.22733602, 0.31675834, 0.79736546, 0.67625467],\n",
       "       [0.61844557, 0.64957227, 1.39567421, 0.86298886],\n",
       "       [1.29120162, 1.59137513, 1.64391993, 1.81187001]])"
      ]
     },
     "execution_count": 25,
     "metadata": {},
     "output_type": "execute_result"
    }
   ],
   "source": [
    "# 按列累计求和\n",
    "np.cumsum(arr, axis=0)"
   ]
  },
  {
   "cell_type": "code",
   "execution_count": 26,
   "id": "f594f0cc",
   "metadata": {},
   "outputs": [
    {
     "data": {
      "text/plain": [
       "array([[0.22733602, 0.54409436, 1.34145982, 2.01771449],\n",
       "       [0.39110955, 0.72392348, 1.32223223, 1.50896642],\n",
       "       [0.67275604, 1.61455891, 1.86280462, 2.81168578]])"
      ]
     },
     "execution_count": 26,
     "metadata": {},
     "output_type": "execute_result"
    }
   ],
   "source": [
    "# 按行累计求和\n",
    "np.cumsum(arr, axis=1)"
   ]
  },
  {
   "cell_type": "code",
   "execution_count": 27,
   "id": "1738a42b",
   "metadata": {},
   "outputs": [
    {
     "data": {
      "text/plain": [
       "0.26698804579973995"
      ]
     },
     "execution_count": 27,
     "metadata": {},
     "output_type": "execute_result"
    }
   ],
   "source": [
    "# 标准差，用法类似\n",
    "np.std(arr)"
   ]
  },
  {
   "cell_type": "code",
   "execution_count": 28,
   "id": "c5600fab",
   "metadata": {},
   "outputs": [
    {
     "data": {
      "text/plain": [
       "array([0.18395214, 0.29093832, 0.22698512, 0.31531704])"
      ]
     },
     "execution_count": 28,
     "metadata": {},
     "output_type": "execute_result"
    }
   ],
   "source": [
    "# 按列求标准差\n",
    "np.std(arr, axis=0)"
   ]
  },
  {
   "cell_type": "code",
   "execution_count": 29,
   "id": "e354f480",
   "metadata": {},
   "outputs": [
    {
     "data": {
      "text/plain": [
       "array([0.05683416, 0.02183247, 0.08130012])"
      ]
     },
     "execution_count": 29,
     "metadata": {},
     "output_type": "execute_result"
    }
   ],
   "source": [
    "# 方差\n",
    "np.var(arr, axis=1)"
   ]
  },
  {
   "cell_type": "code",
   "execution_count": null,
   "id": "a4dc5d39",
   "metadata": {},
   "outputs": [],
   "source": []
  }
 ],
 "metadata": {
  "kernelspec": {
   "display_name": "Python 3",
   "language": "python",
   "name": "python3"
  },
  "language_info": {
   "codemirror_mode": {
    "name": "ipython",
    "version": 3
   },
   "file_extension": ".py",
   "mimetype": "text/x-python",
   "name": "python",
   "nbconvert_exporter": "python",
   "pygments_lexer": "ipython3",
   "version": "3.6.9"
  },
  "toc": {
   "base_numbering": 1,
   "nav_menu": {},
   "number_sections": true,
   "sideBar": true,
   "skip_h1_title": false,
   "title_cell": "Table of Contents",
   "title_sidebar": "Contents",
   "toc_cell": false,
   "toc_position": {},
   "toc_section_display": true,
   "toc_window_display": true
  }
 },
 "nbformat": 4,
 "nbformat_minor": 5
}
