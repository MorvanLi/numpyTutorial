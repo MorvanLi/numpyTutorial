{
 "cells": [
  {
   "cell_type": "markdown",
   "id": "332179ab",
   "metadata": {},
   "source": [
    "I strongly suggest you use the official [numy manual](https://numpy.org/doc/stable/), this tutorial is designed to help students without basic knowledge to quickly master the common functions of numpy and ensure the use of most of the daily scenarios. It can be used as a prerequisite course for machine learning or deep learning, or as a quick reference manual.\n",
    "\n",
    "使用说明如下：\n",
    "\n",
    "+ 每一小节都有⭐（1-5个）表示重要程度，越多越重要\n",
    "+ 每一小节下重要的会单独列成一个更小的小节，可以通过目录直接访问。其中分割线下面的可以补充了解\n",
    "+ ⚠️ 表示需要特别注意的"
   ]
  },
  {
   "cell_type": "markdown",
   "id": "230a1a95",
   "metadata": {},
   "source": [
    "# 从 python 列表或元组创建\n",
    "\n",
    "⭐⭐ 重点掌握传入 list 创建一个 array 即可：np.array(list)\n",
    "\n",
    "⚠️ 需要注意的是：「数据类型」。如果您足够仔细的话，可以发现下面第二组代码第 2 个数字是「小数」（注：Python 中 1. == 1.0），而 array 是要保证每个元素类型相同的，所以会帮您把 array 转为一个 float 的类型。"
   ]
  },
  {
   "cell_type": "code",
   "execution_count": 2,
   "id": "f525b09c",
   "metadata": {},
   "outputs": [],
   "source": [
    "import numpy as np"
   ]
  },
  {
   "cell_type": "code",
   "execution_count": 3,
   "id": "8541e3f3",
   "metadata": {},
   "outputs": [
    {
     "data": {
      "text/plain": [
       "array([1, 2, 3])"
      ]
     },
     "execution_count": 3,
     "metadata": {},
     "output_type": "execute_result"
    }
   ],
   "source": [
    "# 一个 list\n",
    "np.array([1,2,3])"
   ]
  },
  {
   "cell_type": "code",
   "execution_count": 4,
   "id": "be3ba23d",
   "metadata": {},
   "outputs": [
    {
     "data": {
      "text/plain": [
       "array([[1., 2., 3.],\n",
       "       [4., 5., 6.]])"
      ]
     },
     "execution_count": 4,
     "metadata": {},
     "output_type": "execute_result"
    }
   ],
   "source": [
    "# 二维（多维类似）\n",
    "# 注意，有一个小数哦\n",
    "np.array([[1, 2., 3], [4, 5, 6]])"
   ]
  },
  {
   "cell_type": "code",
   "execution_count": 5,
   "id": "3d924285",
   "metadata": {},
   "outputs": [
    {
     "data": {
      "text/plain": [
       "array([1., 2., 3.], dtype=float16)"
      ]
     },
     "execution_count": 5,
     "metadata": {},
     "output_type": "execute_result"
    }
   ],
   "source": [
    "# 您也可以指定数据类型\n",
    "np.array([1, 2, 3], dtype=np.float16)"
   ]
  },
  {
   "cell_type": "code",
   "execution_count": 6,
   "id": "984fceb3",
   "metadata": {},
   "outputs": [
    {
     "data": {
      "text/plain": [
       "array([[1, 2, 3],\n",
       "       [4, 5, 6]], dtype=int32)"
      ]
     },
     "execution_count": 6,
     "metadata": {},
     "output_type": "execute_result"
    }
   ],
   "source": [
    "# 如果指定了 dtype，输入的值都会被转为对应的类型，而且不会四舍五入\n",
    "arr = [\n",
    "    [1, 2, 3],\n",
    "    [4, 5, 6.8]\n",
    "]\n",
    "np.array(arr, dtype=np.int32)\n"
   ]
  },
  {
   "cell_type": "code",
   "execution_count": 7,
   "id": "263fb75d",
   "metadata": {},
   "outputs": [
    {
     "data": {
      "text/plain": [
       "array([1.1, 2.2])"
      ]
     },
     "execution_count": 7,
     "metadata": {},
     "output_type": "execute_result"
    }
   ],
   "source": [
    "# 一个 tuple\n",
    "np.array((1.1, 2.2))"
   ]
  },
  {
   "cell_type": "code",
   "execution_count": 8,
   "id": "3902ba54",
   "metadata": {},
   "outputs": [
    {
     "data": {
      "text/plain": [
       "array([[1.1, 2.2, 3.3],\n",
       "       [4.4, 5.5, 6.6]])"
      ]
     },
     "execution_count": 8,
     "metadata": {},
     "output_type": "execute_result"
    }
   ],
   "source": [
    "# tuple，一般用 list 就好，不需要使用 tuple\n",
    "np.array([(1.1, 2.2, 3.3), (4.4, 5.5, 6.6)])"
   ]
  },
  {
   "cell_type": "code",
   "execution_count": 9,
   "id": "27696890",
   "metadata": {},
   "outputs": [
    {
     "data": {
      "text/plain": [
       "array([1, 2, 3])"
      ]
     },
     "execution_count": 9,
     "metadata": {},
     "output_type": "execute_result"
    }
   ],
   "source": [
    "# 转换而不是上面的创建，其实是类似的，无须过于纠结\n",
    "np.asarray((1,2,3))"
   ]
  },
  {
   "cell_type": "code",
   "execution_count": 10,
   "id": "c843a737",
   "metadata": {},
   "outputs": [
    {
     "data": {
      "text/plain": [
       "array([[1., 2., 3.],\n",
       "       [4., 5., 6.]])"
      ]
     },
     "execution_count": 10,
     "metadata": {},
     "output_type": "execute_result"
    }
   ],
   "source": [
    "np.asarray(([1., 2., 3.], (4., 5., 6.)))"
   ]
  },
  {
   "cell_type": "markdown",
   "id": "77032c07",
   "metadata": {},
   "source": [
    "# 使用 arange 生成\n",
    "\n",
    "⭐⭐\n",
    "\n",
    "range 是 Python 内置的整数序列生成器，arange 是 numpy 的，效果类似，会生成一维的向量。我们偶尔会需要使用这种方式来构造 array，比如：\n",
    "\n",
    "+ 需要创建一个连续一维向量作为输入（比如编码位置时可以使用）\n",
    "+ 需要观察筛选、抽样的结果时，有序的 array 一般更加容易观察\n",
    "\n",
    "⚠️ 需要注意的是：在 reshape 时，目标的 shape 需要的元素数量一定要和原始的元素数量相等。"
   ]
  },
  {
   "cell_type": "code",
   "execution_count": 11,
   "id": "297eff72",
   "metadata": {},
   "outputs": [
    {
     "data": {
      "text/plain": [
       "array([[ 0,  1,  2,  3],\n",
       "       [ 4,  5,  6,  7],\n",
       "       [ 8,  9, 10, 11]])"
      ]
     },
     "execution_count": 11,
     "metadata": {},
     "output_type": "execute_result"
    }
   ],
   "source": [
    "np.arange(12).reshape(3, 4)"
   ]
  },
  {
   "cell_type": "code",
   "execution_count": 12,
   "id": "92806c7b",
   "metadata": {},
   "outputs": [
    {
     "data": {
      "text/plain": [
       "array([[ 0.,  1.,  2.],\n",
       "       [ 3.,  4.,  5.],\n",
       "       [ 6.,  7.,  8.],\n",
       "       [ 9., 10., 11.]])"
      ]
     },
     "execution_count": 12,
     "metadata": {},
     "output_type": "execute_result"
    }
   ],
   "source": [
    "# 注意，是小数哦\n",
    "np.arange(12.0).reshape(4, 3)"
   ]
  },
  {
   "cell_type": "code",
   "execution_count": 13,
   "id": "b7f5889f",
   "metadata": {},
   "outputs": [
    {
     "data": {
      "text/plain": [
       "array([[[100, 102],\n",
       "        [104, 106]],\n",
       "\n",
       "       [[108, 110],\n",
       "        [112, 114]],\n",
       "\n",
       "       [[116, 118],\n",
       "        [120, 122]]])"
      ]
     },
     "execution_count": 13,
     "metadata": {},
     "output_type": "execute_result"
    }
   ],
   "source": [
    "np.arange(100, 124, 2).reshape(3, 2, 2)"
   ]
  },
  {
   "cell_type": "code",
   "execution_count": 14,
   "id": "9b696a32",
   "metadata": {},
   "outputs": [
    {
     "ename": "ValueError",
     "evalue": "cannot reshape array of size 12 into shape (2,3,4)",
     "output_type": "error",
     "traceback": [
      "\u001b[0;31m---------------------------------------------------------------------------\u001b[0m",
      "\u001b[0;31mValueError\u001b[0m                                Traceback (most recent call last)",
      "\u001b[0;32m<ipython-input-14-616298e5be78>\u001b[0m in \u001b[0;36m<module>\u001b[0;34m\u001b[0m\n\u001b[1;32m      1\u001b[0m \u001b[0;31m# shape size 相乘要和生成的元素数量一致\u001b[0m\u001b[0;34m\u001b[0m\u001b[0;34m\u001b[0m\u001b[0;34m\u001b[0m\u001b[0m\n\u001b[0;32m----> 2\u001b[0;31m \u001b[0mnp\u001b[0m\u001b[0;34m.\u001b[0m\u001b[0marange\u001b[0m\u001b[0;34m(\u001b[0m\u001b[0;36m100.\u001b[0m\u001b[0;34m,\u001b[0m \u001b[0;36m124.\u001b[0m\u001b[0;34m,\u001b[0m \u001b[0;36m2\u001b[0m\u001b[0;34m)\u001b[0m\u001b[0;34m.\u001b[0m\u001b[0mreshape\u001b[0m\u001b[0;34m(\u001b[0m\u001b[0;36m2\u001b[0m\u001b[0;34m,\u001b[0m\u001b[0;36m3\u001b[0m\u001b[0;34m,\u001b[0m\u001b[0;36m4\u001b[0m\u001b[0;34m)\u001b[0m\u001b[0;34m\u001b[0m\u001b[0;34m\u001b[0m\u001b[0m\n\u001b[0m",
      "\u001b[0;31mValueError\u001b[0m: cannot reshape array of size 12 into shape (2,3,4)"
     ]
    }
   ],
   "source": [
    "# shape size 相乘要和生成的元素数量一致\n",
    "np.arange(100., 124., 2).reshape(2,3,4)"
   ]
  },
  {
   "cell_type": "markdown",
   "id": "9c196dfa",
   "metadata": {},
   "source": [
    "# 使用 linspace/logspace 生成\n",
    "\n",
    "⭐⭐⭐\n",
    "\n",
    "OK，这是我们遇到的第一个比较重要的 API，前者需要传入 3 个参数：开头，结尾，数量；后者需要额外传入一个 base，它默认是 10。\n",
    "\n",
    "⚠️ 需要注意的是：第三个参数并不是步长。"
   ]
  },
  {
   "cell_type": "code",
   "execution_count": 15,
   "id": "917a6a60",
   "metadata": {},
   "outputs": [
    {
     "data": {
      "text/plain": [
       "array([[0., 1., 2., 3., 4.],\n",
       "       [5., 6., 7., 8., 9.]])"
      ]
     },
     "execution_count": 15,
     "metadata": {},
     "output_type": "execute_result"
    }
   ],
   "source": [
    "# 线性\n",
    "np.linspace(0, 9, 10).reshape(2, 5)"
   ]
  },
  {
   "cell_type": "code",
   "execution_count": 16,
   "id": "c8b1b42f",
   "metadata": {},
   "outputs": [
    {
     "data": {
      "text/plain": [
       "array([[0. , 1.8, 3.6],\n",
       "       [5.4, 7.2, 9. ]])"
      ]
     },
     "execution_count": 16,
     "metadata": {},
     "output_type": "execute_result"
    }
   ],
   "source": [
    "np.linspace(0, 9, 6).reshape(2, 3)"
   ]
  },
  {
   "cell_type": "code",
   "execution_count": 17,
   "id": "d2e7e654",
   "metadata": {},
   "outputs": [
    {
     "data": {
      "text/plain": [
       "array([[1.00000000e+00, 6.04964746e+00, 3.65982344e+01],\n",
       "       [2.21406416e+02, 1.33943076e+03, 8.10308393e+03]])"
      ]
     },
     "execution_count": 17,
     "metadata": {},
     "output_type": "execute_result"
    }
   ],
   "source": [
    "# 指数 base 默认为 10\n",
    "np.logspace(0, 9, 6, base=np.e).reshape(2, 3)"
   ]
  },
  {
   "cell_type": "code",
   "execution_count": 18,
   "id": "4bdc2689",
   "metadata": {},
   "outputs": [
    {
     "data": {
      "text/plain": [
       "array([[0. , 1.8, 3.6],\n",
       "       [5.4, 7.2, 9. ]])"
      ]
     },
     "execution_count": 18,
     "metadata": {},
     "output_type": "execute_result"
    }
   ],
   "source": [
    "# _ 表示上（最近）一个输出\n",
    "# logspace 结果 log 后就是上面 linspace 的结果\n",
    "np.log(_)"
   ]
  },
  {
   "cell_type": "markdown",
   "id": "8c238010",
   "metadata": {},
   "source": [
    "下面我们更进一步看一下："
   ]
  },
  {
   "cell_type": "code",
   "execution_count": 19,
   "id": "048be9e7",
   "metadata": {},
   "outputs": [
    {
     "data": {
      "image/png": "[encoded data removed]",
      "text/plain": [
       "<Figure size 432x288 with 1 Axes>"
      ]
     },
     "metadata": {
      "needs_background": "light"
     },
     "output_type": "display_data"
    }
   ],
   "source": [
    "%matplotlib inline\n",
    "import matplotlib.pyplot as plt\n",
    "N = 20\n",
    "x = np.arange(N)\n",
    "y1 = np.linspace(0, 10, N) * 100\n",
    "y2 = np.logspace(0, 10, N, base=2)\n",
    "\n",
    "plt.plot(x, y2, '*');\n",
    "plt.plot(x, y1, 'o');"
   ]
  },
  {
   "cell_type": "code",
   "execution_count": 20,
   "id": "c3ac4ea8",
   "metadata": {},
   "outputs": [
    {
     "data": {
      "text/plain": [
       "True"
      ]
     },
     "execution_count": 20,
     "metadata": {},
     "output_type": "execute_result"
    }
   ],
   "source": [
    "# 检查每个元素是否为 True\n",
    "# base 的 指数为 linspace 得到的就是 logspace\n",
    "np.alltrue(2 ** np.linspace(0, 10, N)  == y2)"
   ]
  },
  {
   "cell_type": "markdown",
   "id": "2f81c9f4",
   "metadata": {},
   "source": [
    "⚠️ 补充：关于 array 的条件判断"
   ]
  },
  {
   "cell_type": "code",
   "execution_count": 21,
   "id": "c1c2a5ba",
   "metadata": {},
   "outputs": [
    {
     "ename": "ValueError",
     "evalue": "The truth value of an array with more than one element is ambiguous. Use a.any() or a.all()",
     "output_type": "error",
     "traceback": [
      "\u001b[0;31m---------------------------------------------------------------------------\u001b[0m",
      "\u001b[0;31mValueError\u001b[0m                                Traceback (most recent call last)",
      "\u001b[0;32m<ipython-input-21-8edbe016c0dd>\u001b[0m in \u001b[0;36m<module>\u001b[0;34m\u001b[0m\n\u001b[1;32m      2\u001b[0m \u001b[0marr\u001b[0m \u001b[0;34m=\u001b[0m \u001b[0mnp\u001b[0m\u001b[0;34m.\u001b[0m\u001b[0marray\u001b[0m\u001b[0;34m(\u001b[0m\u001b[0;34m[\u001b[0m\u001b[0;36m1\u001b[0m\u001b[0;34m,\u001b[0m \u001b[0;36m2\u001b[0m\u001b[0;34m,\u001b[0m \u001b[0;36m3\u001b[0m\u001b[0;34m]\u001b[0m\u001b[0;34m)\u001b[0m\u001b[0;34m\u001b[0m\u001b[0;34m\u001b[0m\u001b[0m\n\u001b[1;32m      3\u001b[0m \u001b[0mcond1\u001b[0m \u001b[0;34m=\u001b[0m \u001b[0marr\u001b[0m \u001b[0;34m>\u001b[0m \u001b[0;36m2\u001b[0m\u001b[0;34m\u001b[0m\u001b[0;34m\u001b[0m\u001b[0m\n\u001b[0;32m----> 4\u001b[0;31m \u001b[0;32mif\u001b[0m \u001b[0mcond1\u001b[0m\u001b[0;34m:\u001b[0m\u001b[0;34m\u001b[0m\u001b[0;34m\u001b[0m\u001b[0m\n\u001b[0m\u001b[1;32m      5\u001b[0m     \u001b[0mprint\u001b[0m\u001b[0;34m(\u001b[0m\u001b[0;34m\"error\"\u001b[0m\u001b[0;34m)\u001b[0m\u001b[0;34m\u001b[0m\u001b[0;34m\u001b[0m\u001b[0m\n",
      "\u001b[0;31mValueError\u001b[0m: The truth value of an array with more than one element is ambiguous. Use a.any() or a.all()"
     ]
    }
   ],
   "source": [
    "# 不能直接用 if 判断 array 是否符合某个条件\n",
    "arr = np.array([1, 2, 3])\n",
    "cond1 = arr > 2\n",
    "if cond1:\n",
    "    print(\"error\")"
   ]
  },
  {
   "cell_type": "code",
   "execution_count": 22,
   "id": "acd2b9bb",
   "metadata": {},
   "outputs": [
    {
     "data": {
      "text/plain": [
       "array([ True,  True,  True])"
      ]
     },
     "execution_count": 22,
     "metadata": {},
     "output_type": "execute_result"
    }
   ],
   "source": [
    "# 即便你全是 True 它也不行\n",
    "arr = np.array([1, 2, 3])\n",
    "cond2 = arr > 0\n",
    "cond2"
   ]
  },
  {
   "cell_type": "code",
   "execution_count": 23,
   "id": "b434a5a4",
   "metadata": {},
   "outputs": [
    {
     "ename": "ValueError",
     "evalue": "The truth value of an array with more than one element is ambiguous. Use a.any() or a.all()",
     "output_type": "error",
     "traceback": [
      "\u001b[0;31m---------------------------------------------------------------------------\u001b[0m",
      "\u001b[0;31mValueError\u001b[0m                                Traceback (most recent call last)",
      "\u001b[0;32m<ipython-input-23-7fedc8ba71a0>\u001b[0m in \u001b[0;36m<module>\u001b[0;34m\u001b[0m\n\u001b[0;32m----> 1\u001b[0;31m \u001b[0;32mif\u001b[0m \u001b[0mcond2\u001b[0m\u001b[0;34m:\u001b[0m\u001b[0;34m\u001b[0m\u001b[0;34m\u001b[0m\u001b[0m\n\u001b[0m\u001b[1;32m      2\u001b[0m     \u001b[0mprint\u001b[0m\u001b[0;34m(\u001b[0m\u001b[0;34m\"这还不行\"\u001b[0m\u001b[0;34m)\u001b[0m\u001b[0;34m\u001b[0m\u001b[0;34m\u001b[0m\u001b[0m\n",
      "\u001b[0;31mValueError\u001b[0m: The truth value of an array with more than one element is ambiguous. Use a.any() or a.all()"
     ]
    }
   ],
   "source": [
    "if cond2:\n",
    "    print(\"这还不行\")"
   ]
  },
  {
   "cell_type": "code",
   "execution_count": 24,
   "id": "29e1ea83",
   "metadata": {},
   "outputs": [
    {
     "name": "stdout",
     "output_type": "stream",
     "text": [
      "只要有一个为True就可以，所以——我可以\n"
     ]
    }
   ],
   "source": [
    "# 只能用 any 或 all，这个很容易犯错，请务必注意。\n",
    "if cond1.any():\n",
    "    print(\"只要有一个为True就可以，所以——我可以\")"
   ]
  },
  {
   "cell_type": "code",
   "execution_count": 25,
   "id": "214dfecf",
   "metadata": {},
   "outputs": [
    {
     "name": "stdout",
     "output_type": "stream",
     "text": [
      "所有值为True才可以，我正好这样\n"
     ]
    }
   ],
   "source": [
    "if cond2.all():\n",
    "    print(\"所有值为True才可以，我正好这样\")"
   ]
  },
  {
   "cell_type": "markdown",
   "id": "f7872680",
   "metadata": {},
   "source": [
    "# 使用 ones/zeros 创建\n",
    "\n",
    "⭐\n",
    "\n",
    "创建全 1/0 array 的快捷方式。需要注意的是 np.zeros_like 或 np.ones_like，二者可以快速生成给定 array 一样 shape 的 0 或 1 向量，这在需要 Mask 某些位置时可能会用到。\n",
    "\n",
    "⚠️ 需要注意的是：创建出来的 array 默认是 float 类型。"
   ]
  },
  {
   "cell_type": "code",
   "execution_count": 26,
   "id": "48afcd78",
   "metadata": {},
   "outputs": [
    {
     "data": {
      "text/plain": [
       "array([1., 1., 1.])"
      ]
     },
     "execution_count": 26,
     "metadata": {},
     "output_type": "execute_result"
    }
   ],
   "source": [
    "np.ones(3)"
   ]
  },
  {
   "cell_type": "code",
   "execution_count": 27,
   "id": "14760bca",
   "metadata": {},
   "outputs": [
    {
     "data": {
      "text/plain": [
       "array([[1., 1., 1.],\n",
       "       [1., 1., 1.]])"
      ]
     },
     "execution_count": 27,
     "metadata": {},
     "output_type": "execute_result"
    }
   ],
   "source": [
    "np.ones((2, 3))"
   ]
  },
  {
   "cell_type": "code",
   "execution_count": 28,
   "id": "f1e8b426",
   "metadata": {},
   "outputs": [
    {
     "data": {
      "text/plain": [
       "array([[[0., 0., 0., 0.],\n",
       "        [0., 0., 0., 0.],\n",
       "        [0., 0., 0., 0.]],\n",
       "\n",
       "       [[0., 0., 0., 0.],\n",
       "        [0., 0., 0., 0.],\n",
       "        [0., 0., 0., 0.]]])"
      ]
     },
     "execution_count": 28,
     "metadata": {},
     "output_type": "execute_result"
    }
   ],
   "source": [
    "np.zeros((2,3,4))"
   ]
  },
  {
   "cell_type": "code",
   "execution_count": 29,
   "id": "6a3fe990",
   "metadata": {},
   "outputs": [
    {
     "data": {
      "text/plain": [
       "array([[[0., 0., 0.],\n",
       "        [0., 0., 0.],\n",
       "        [0., 0., 0.]],\n",
       "\n",
       "       [[0., 0., 0.],\n",
       "        [0., 0., 0.],\n",
       "        [0., 0., 0.]]])"
      ]
     },
     "execution_count": 29,
     "metadata": {},
     "output_type": "execute_result"
    }
   ],
   "source": [
    "# 像给定向量那样的 0 向量（ones_like 是 1 向量）\n",
    "np.zeros_like(np.ones((2,3,3)))"
   ]
  },
  {
   "cell_type": "markdown",
   "id": "4a7e046c",
   "metadata": {},
   "source": [
    "# 使用 random 生成\n",
    "\n",
    "⭐⭐⭐⭐⭐\n",
    "\n",
    "如果要在这一节选一个最重要的 API，那一定是 random 无疑了，这里我们只介绍几个比较常用的「生产」数据相关的 API。它们经常用于随机生成训练或测试数据，神经网路初始化等。\n",
    "\n",
    "⚠️ 需要注意的是：这里我们统一推荐使用新的 API 方式创建，即通过 np.random.default_rng() 先生成 Generator，然后再在此基础上生成各种分布的数据（记忆更加简便清晰）。不过我们依然会介绍就的 API 用法，因为很多代码中使用的还是旧的，您可以混个眼熟。"
   ]
  },
  {
   "cell_type": "code",
   "execution_count": 30,
   "id": "f8ff805a",
   "metadata": {},
   "outputs": [
    {
     "data": {
      "text/plain": [
       "array([[0.99463543, 0.52819178, 0.67070845],\n",
       "       [0.67617203, 0.77992633, 0.47464449]])"
      ]
     },
     "execution_count": 30,
     "metadata": {},
     "output_type": "execute_result"
    }
   ],
   "source": [
    "# 0-1 连续均匀分布\n",
    "np.random.rand(2, 3)"
   ]
  },
  {
   "cell_type": "code",
   "execution_count": 31,
   "id": "49771920",
   "metadata": {},
   "outputs": [
    {
     "data": {
      "text/plain": [
       "0.12331317442986978"
      ]
     },
     "execution_count": 31,
     "metadata": {},
     "output_type": "execute_result"
    }
   ],
   "source": [
    "# 单个数\n",
    "np.random.rand()"
   ]
  },
  {
   "cell_type": "code",
   "execution_count": 32,
   "id": "bae08b16",
   "metadata": {},
   "outputs": [
    {
     "data": {
      "text/plain": [
       "array([[0.56650334, 0.06400854],\n",
       "       [0.7733214 , 0.7567234 ],\n",
       "       [0.20964645, 0.24495611]])"
      ]
     },
     "execution_count": 32,
     "metadata": {},
     "output_type": "execute_result"
    }
   ],
   "source": [
    "# 0-1 连续均匀分布\n",
    "np.random.random((3, 2))"
   ]
  },
  {
   "cell_type": "code",
   "execution_count": 33,
   "id": "b9491f62",
   "metadata": {},
   "outputs": [
    {
     "data": {
      "text/plain": [
       "array([[ 0.82138776,  0.79222624,  0.48715263],\n",
       "       [-0.19210337,  0.04709333, -0.83821998]])"
      ]
     },
     "execution_count": 33,
     "metadata": {},
     "output_type": "execute_result"
    }
   ],
   "source": [
    "# 指定上下界的连续均匀分布\n",
    "np.random.uniform(-1, 1, (2, 3))"
   ]
  },
  {
   "cell_type": "code",
   "execution_count": 34,
   "id": "5e0869e0",
   "metadata": {},
   "outputs": [
    {
     "data": {
      "text/plain": [
       "Generator(PCG64) at 0x7F2B214377C8"
      ]
     },
     "execution_count": 34,
     "metadata": {},
     "output_type": "execute_result"
    }
   ],
   "source": [
    "# 上面两个的区别是 shape 的输入方式不同，无伤大雅了\n",
    "# 不过从 1.17 版本后推荐这样使用（以后大家可以用新的方法）\n",
    "# rng 是个 Generator，可用于生成各种分布\n",
    "rng = np.random.default_rng(12345)\n",
    "rng"
   ]
  },
  {
   "cell_type": "code",
   "execution_count": 35,
   "id": "9301f820",
   "metadata": {},
   "outputs": [
    {
     "data": {
      "text/plain": [
       "array([[0.22733602, 0.31675834, 0.79736546],\n",
       "       [0.67625467, 0.39110955, 0.33281393]])"
      ]
     },
     "execution_count": 35,
     "metadata": {},
     "output_type": "execute_result"
    }
   ],
   "source": [
    "# 推荐的连续均匀分布用法\n",
    "rng.random((2, 3))"
   ]
  },
  {
   "cell_type": "code",
   "execution_count": 36,
   "id": "42bd00d9",
   "metadata": {},
   "outputs": [
    {
     "data": {
      "text/plain": [
       "array([[0.59830875, 0.18673419, 0.67275604],\n",
       "       [0.94180287, 0.24824571, 0.94888115]])"
      ]
     },
     "execution_count": 36,
     "metadata": {},
     "output_type": "execute_result"
    }
   ],
   "source": [
    "# 可以指定上下界，所以更加推荐这种用法\n",
    "rng.uniform(0, 1, (2, 3))"
   ]
  },
  {
   "cell_type": "code",
   "execution_count": 37,
   "id": "5593c7c6",
   "metadata": {},
   "outputs": [
    {
     "data": {
      "text/plain": [
       "array([6, 2])"
      ]
     },
     "execution_count": 37,
     "metadata": {},
     "output_type": "execute_result"
    }
   ],
   "source": [
    "# 随机整数（离散均匀分布），不超过给定的值（10）\n",
    "np.random.randint(10, size=2)"
   ]
  },
  {
   "cell_type": "code",
   "execution_count": 38,
   "id": "91eff5bf",
   "metadata": {},
   "outputs": [
    {
     "data": {
      "text/plain": [
       "array([[5, 9, 8],\n",
       "       [4, 2, 9]])"
      ]
     },
     "execution_count": 38,
     "metadata": {},
     "output_type": "execute_result"
    }
   ],
   "source": [
    "# 随机整数（离散均匀分布），指定上下界和 shape\n",
    "np.random.randint(0, 10, (2, 3))"
   ]
  },
  {
   "cell_type": "code",
   "execution_count": 39,
   "id": "e1c9a18b",
   "metadata": {},
   "outputs": [
    {
     "data": {
      "text/plain": [
       "array([7, 6])"
      ]
     },
     "execution_count": 39,
     "metadata": {},
     "output_type": "execute_result"
    }
   ],
   "source": [
    "# 上面推荐的方法，指定大小和上界\n",
    "rng.integers(10, size=2)"
   ]
  },
  {
   "cell_type": "code",
   "execution_count": 40,
   "id": "43640f5f",
   "metadata": {},
   "outputs": [
    {
     "data": {
      "text/plain": [
       "array([[1, 0, 2],\n",
       "       [4, 0, 8]])"
      ]
     },
     "execution_count": 40,
     "metadata": {},
     "output_type": "execute_result"
    }
   ],
   "source": [
    "# 上面推荐的方法，指定上下界\n",
    "rng.integers(0, 10, (2, 3))"
   ]
  },
  {
   "cell_type": "code",
   "execution_count": 41,
   "id": "234bf094",
   "metadata": {},
   "outputs": [
    {
     "data": {
      "text/plain": [
       "array([[-1.11592105,  0.68363836,  0.67090508, -1.60820575],\n",
       "       [ 0.13009126, -1.26628832, -0.19389017,  0.07232819]])"
      ]
     },
     "execution_count": 41,
     "metadata": {},
     "output_type": "execute_result"
    }
   ],
   "source": [
    "# 标准正态分布\n",
    "np.random.randn(2, 4)"
   ]
  },
  {
   "cell_type": "code",
   "execution_count": 42,
   "id": "d9f4b964",
   "metadata": {},
   "outputs": [
    {
     "data": {
      "text/plain": [
       "array([[ 0.78884434, -1.25666813,  0.57585751,  1.39897899],\n",
       "       [ 1.32229806, -0.29969852,  0.90291934, -1.62158273]])"
      ]
     },
     "execution_count": 42,
     "metadata": {},
     "output_type": "execute_result"
    }
   ],
   "source": [
    "# 上面推荐的标准正态分布用法\n",
    "rng.standard_normal((2, 4))"
   ]
  },
  {
   "cell_type": "code",
   "execution_count": 43,
   "id": "87c64ad3",
   "metadata": {},
   "outputs": [
    {
     "data": {
      "text/plain": [
       "array([[ 0.11979828,  2.04557184, -0.99406867, -2.35711406,  1.86660541],\n",
       "       [-0.08968422,  2.07584396, -0.25567896,  1.44843138, -1.26021227],\n",
       "       [-2.04853584,  1.08440197, -0.28823071, -0.51351737,  0.01815912]])"
      ]
     },
     "execution_count": 43,
     "metadata": {},
     "output_type": "execute_result"
    }
   ],
   "source": [
    "# 高斯分布\n",
    "np.random.normal(0, 1, (3, 5))"
   ]
  },
  {
   "cell_type": "code",
   "execution_count": 44,
   "id": "cd7e00a7",
   "metadata": {},
   "outputs": [
    {
     "data": {
      "text/plain": [
       "array([[-0.15818926,  0.44948393, -1.34360107, -0.08168759,  1.72473993],\n",
       "       [ 2.61815943,  0.77736134,  0.8286332 , -0.95898831, -1.20938829],\n",
       "       [-1.41229201,  0.54154683,  0.7519394 , -0.65876032, -1.22867499]])"
      ]
     },
     "execution_count": 44,
     "metadata": {},
     "output_type": "execute_result"
    }
   ],
   "source": [
    "# 上面推荐的高斯分布用法\n",
    "rng.normal(0, 1, (3, 5))"
   ]
  },
  {
   "cell_type": "markdown",
   "id": "da0345b5",
   "metadata": {},
   "source": [
    "总之，一般会用的就是2个分布：均匀分布和正态（高斯）分布。另外，size 可以指定 shape。"
   ]
  },
  {
   "cell_type": "code",
   "execution_count": 45,
   "id": "845ee0ed",
   "metadata": {},
   "outputs": [
    {
     "data": {
      "text/plain": [
       "array([3, 2, 6, 4, 5])"
      ]
     },
     "execution_count": 45,
     "metadata": {},
     "output_type": "execute_result"
    }
   ],
   "source": [
    "# 离散均匀分布\n",
    "rng.integers(low=0, high=10, size=5)"
   ]
  },
  {
   "cell_type": "code",
   "execution_count": 46,
   "id": "8818831d",
   "metadata": {},
   "outputs": [
    {
     "data": {
      "text/plain": [
       "array([3.3089093 , 9.03454007, 2.57074175, 3.39828338, 2.58853399])"
      ]
     },
     "execution_count": 46,
     "metadata": {},
     "output_type": "execute_result"
    }
   ],
   "source": [
    "# 连续均匀分布\n",
    "rng.uniform(low=0, high=10, size=5)"
   ]
  },
  {
   "cell_type": "code",
   "execution_count": 47,
   "id": "873cfa67",
   "metadata": {},
   "outputs": [
    {
     "data": {
      "text/plain": [
       "array([[1.34707776, 0.06114402, 0.0709146 ],\n",
       "       [0.43365454, 0.27748366, 0.53025239]])"
      ]
     },
     "execution_count": 47,
     "metadata": {},
     "output_type": "execute_result"
    }
   ],
   "source": [
    "# 正态（高斯）分布\n",
    "rng.normal(loc=0.0, scale=1.0, size=(2, 3))"
   ]
  },
  {
   "cell_type": "code",
   "execution_count": null,
   "id": "267e2e38",
   "metadata": {},
   "outputs": [],
   "source": []
  }
 ],
 "metadata": {
  "kernelspec": {
   "display_name": "Python 3",
   "language": "python",
   "name": "python3"
  },
  "language_info": {
   "codemirror_mode": {
    "name": "ipython",
    "version": 3
   },
   "file_extension": ".py",
   "mimetype": "text/x-python",
   "name": "python",
   "nbconvert_exporter": "python",
   "pygments_lexer": "ipython3",
   "version": "3.6.9"
  },
  "toc": {
   "base_numbering": 1,
   "nav_menu": {},
   "number_sections": true,
   "sideBar": true,
   "skip_h1_title": false,
   "title_cell": "Table of Contents",
   "title_sidebar": "Contents",
   "toc_cell": false,
   "toc_position": {
    "height": "calc(100% - 180px)",
    "left": "10px",
    "top": "150px",
    "width": "409.6px"
   },
   "toc_section_display": true,
   "toc_window_display": true
  }
 },
 "nbformat": 4,
 "nbformat_minor": 5
}
